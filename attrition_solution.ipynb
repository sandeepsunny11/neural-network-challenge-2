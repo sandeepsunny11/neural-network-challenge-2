{
 "cells": [
  {
   "cell_type": "markdown",
   "metadata": {
    "id": "alIIEHibGc3M"
   },
   "source": [
    "## Part 1: Preprocessing"
   ]
  },
  {
   "cell_type": "code",
   "execution_count": 1,
   "metadata": {
    "colab": {
     "base_uri": "https://localhost:8080/",
     "height": 325
    },
    "id": "6eDUJ4NtGc3P",
    "outputId": "7a9086e4-bbdf-4e3f-c066-6182b1f6535c"
   },
   "outputs": [
    {
     "data": {
      "text/html": [
       "<div>\n",
       "<style scoped>\n",
       "    .dataframe tbody tr th:only-of-type {\n",
       "        vertical-align: middle;\n",
       "    }\n",
       "\n",
       "    .dataframe tbody tr th {\n",
       "        vertical-align: top;\n",
       "    }\n",
       "\n",
       "    .dataframe thead th {\n",
       "        text-align: right;\n",
       "    }\n",
       "</style>\n",
       "<table border=\"1\" class=\"dataframe\">\n",
       "  <thead>\n",
       "    <tr style=\"text-align: right;\">\n",
       "      <th></th>\n",
       "      <th>Age</th>\n",
       "      <th>Attrition</th>\n",
       "      <th>BusinessTravel</th>\n",
       "      <th>Department</th>\n",
       "      <th>DistanceFromHome</th>\n",
       "      <th>Education</th>\n",
       "      <th>EducationField</th>\n",
       "      <th>EnvironmentSatisfaction</th>\n",
       "      <th>HourlyRate</th>\n",
       "      <th>JobInvolvement</th>\n",
       "      <th>...</th>\n",
       "      <th>PerformanceRating</th>\n",
       "      <th>RelationshipSatisfaction</th>\n",
       "      <th>StockOptionLevel</th>\n",
       "      <th>TotalWorkingYears</th>\n",
       "      <th>TrainingTimesLastYear</th>\n",
       "      <th>WorkLifeBalance</th>\n",
       "      <th>YearsAtCompany</th>\n",
       "      <th>YearsInCurrentRole</th>\n",
       "      <th>YearsSinceLastPromotion</th>\n",
       "      <th>YearsWithCurrManager</th>\n",
       "    </tr>\n",
       "  </thead>\n",
       "  <tbody>\n",
       "    <tr>\n",
       "      <th>0</th>\n",
       "      <td>41</td>\n",
       "      <td>Yes</td>\n",
       "      <td>Travel_Rarely</td>\n",
       "      <td>Sales</td>\n",
       "      <td>1</td>\n",
       "      <td>2</td>\n",
       "      <td>Life Sciences</td>\n",
       "      <td>2</td>\n",
       "      <td>94</td>\n",
       "      <td>3</td>\n",
       "      <td>...</td>\n",
       "      <td>3</td>\n",
       "      <td>1</td>\n",
       "      <td>0</td>\n",
       "      <td>8</td>\n",
       "      <td>0</td>\n",
       "      <td>1</td>\n",
       "      <td>6</td>\n",
       "      <td>4</td>\n",
       "      <td>0</td>\n",
       "      <td>5</td>\n",
       "    </tr>\n",
       "    <tr>\n",
       "      <th>1</th>\n",
       "      <td>49</td>\n",
       "      <td>No</td>\n",
       "      <td>Travel_Frequently</td>\n",
       "      <td>Research &amp; Development</td>\n",
       "      <td>8</td>\n",
       "      <td>1</td>\n",
       "      <td>Life Sciences</td>\n",
       "      <td>3</td>\n",
       "      <td>61</td>\n",
       "      <td>2</td>\n",
       "      <td>...</td>\n",
       "      <td>4</td>\n",
       "      <td>4</td>\n",
       "      <td>1</td>\n",
       "      <td>10</td>\n",
       "      <td>3</td>\n",
       "      <td>3</td>\n",
       "      <td>10</td>\n",
       "      <td>7</td>\n",
       "      <td>1</td>\n",
       "      <td>7</td>\n",
       "    </tr>\n",
       "    <tr>\n",
       "      <th>2</th>\n",
       "      <td>37</td>\n",
       "      <td>Yes</td>\n",
       "      <td>Travel_Rarely</td>\n",
       "      <td>Research &amp; Development</td>\n",
       "      <td>2</td>\n",
       "      <td>2</td>\n",
       "      <td>Other</td>\n",
       "      <td>4</td>\n",
       "      <td>92</td>\n",
       "      <td>2</td>\n",
       "      <td>...</td>\n",
       "      <td>3</td>\n",
       "      <td>2</td>\n",
       "      <td>0</td>\n",
       "      <td>7</td>\n",
       "      <td>3</td>\n",
       "      <td>3</td>\n",
       "      <td>0</td>\n",
       "      <td>0</td>\n",
       "      <td>0</td>\n",
       "      <td>0</td>\n",
       "    </tr>\n",
       "    <tr>\n",
       "      <th>3</th>\n",
       "      <td>33</td>\n",
       "      <td>No</td>\n",
       "      <td>Travel_Frequently</td>\n",
       "      <td>Research &amp; Development</td>\n",
       "      <td>3</td>\n",
       "      <td>4</td>\n",
       "      <td>Life Sciences</td>\n",
       "      <td>4</td>\n",
       "      <td>56</td>\n",
       "      <td>3</td>\n",
       "      <td>...</td>\n",
       "      <td>3</td>\n",
       "      <td>3</td>\n",
       "      <td>0</td>\n",
       "      <td>8</td>\n",
       "      <td>3</td>\n",
       "      <td>3</td>\n",
       "      <td>8</td>\n",
       "      <td>7</td>\n",
       "      <td>3</td>\n",
       "      <td>0</td>\n",
       "    </tr>\n",
       "    <tr>\n",
       "      <th>4</th>\n",
       "      <td>27</td>\n",
       "      <td>No</td>\n",
       "      <td>Travel_Rarely</td>\n",
       "      <td>Research &amp; Development</td>\n",
       "      <td>2</td>\n",
       "      <td>1</td>\n",
       "      <td>Medical</td>\n",
       "      <td>1</td>\n",
       "      <td>40</td>\n",
       "      <td>3</td>\n",
       "      <td>...</td>\n",
       "      <td>3</td>\n",
       "      <td>4</td>\n",
       "      <td>1</td>\n",
       "      <td>6</td>\n",
       "      <td>3</td>\n",
       "      <td>3</td>\n",
       "      <td>2</td>\n",
       "      <td>2</td>\n",
       "      <td>2</td>\n",
       "      <td>2</td>\n",
       "    </tr>\n",
       "  </tbody>\n",
       "</table>\n",
       "<p>5 rows × 27 columns</p>\n",
       "</div>"
      ],
      "text/plain": [
       "   Age Attrition     BusinessTravel              Department  DistanceFromHome  \\\n",
       "0   41       Yes      Travel_Rarely                   Sales                 1   \n",
       "1   49        No  Travel_Frequently  Research & Development                 8   \n",
       "2   37       Yes      Travel_Rarely  Research & Development                 2   \n",
       "3   33        No  Travel_Frequently  Research & Development                 3   \n",
       "4   27        No      Travel_Rarely  Research & Development                 2   \n",
       "\n",
       "   Education EducationField  EnvironmentSatisfaction  HourlyRate  \\\n",
       "0          2  Life Sciences                        2          94   \n",
       "1          1  Life Sciences                        3          61   \n",
       "2          2          Other                        4          92   \n",
       "3          4  Life Sciences                        4          56   \n",
       "4          1        Medical                        1          40   \n",
       "\n",
       "   JobInvolvement  ...  PerformanceRating RelationshipSatisfaction  \\\n",
       "0               3  ...                  3                        1   \n",
       "1               2  ...                  4                        4   \n",
       "2               2  ...                  3                        2   \n",
       "3               3  ...                  3                        3   \n",
       "4               3  ...                  3                        4   \n",
       "\n",
       "   StockOptionLevel TotalWorkingYears  TrainingTimesLastYear WorkLifeBalance  \\\n",
       "0                 0                 8                      0               1   \n",
       "1                 1                10                      3               3   \n",
       "2                 0                 7                      3               3   \n",
       "3                 0                 8                      3               3   \n",
       "4                 1                 6                      3               3   \n",
       "\n",
       "   YearsAtCompany  YearsInCurrentRole  YearsSinceLastPromotion  \\\n",
       "0               6                   4                        0   \n",
       "1              10                   7                        1   \n",
       "2               0                   0                        0   \n",
       "3               8                   7                        3   \n",
       "4               2                   2                        2   \n",
       "\n",
       "   YearsWithCurrManager  \n",
       "0                     5  \n",
       "1                     7  \n",
       "2                     0  \n",
       "3                     0  \n",
       "4                     2  \n",
       "\n",
       "[5 rows x 27 columns]"
      ]
     },
     "execution_count": 1,
     "metadata": {},
     "output_type": "execute_result"
    }
   ],
   "source": [
    "# Import our dependencies\n",
    "from sklearn.model_selection import train_test_split\n",
    "from sklearn.preprocessing import StandardScaler\n",
    "import pandas as pd\n",
    "import numpy as np\n",
    "from tensorflow.keras.models import Model\n",
    "from tensorflow.keras import layers\n",
    "\n",
    "#  Import and read the attrition data\n",
    "attrition_df = pd.read_csv('https://static.bc-edx.com/ai/ail-v-1-0/m19/lms/datasets/attrition.csv')\n",
    "attrition_df.head()"
   ]
  },
  {
   "cell_type": "code",
   "execution_count": 2,
   "metadata": {
    "colab": {
     "base_uri": "https://localhost:8080/",
     "height": 930
    },
    "id": "g22aQSY4Gc3Q",
    "outputId": "a7ab8d75-7a91-4c01-b93f-2905e12754b7"
   },
   "outputs": [
    {
     "data": {
      "text/plain": [
       "Age                         43\n",
       "Attrition                    2\n",
       "BusinessTravel               3\n",
       "Department                   3\n",
       "DistanceFromHome            29\n",
       "Education                    5\n",
       "EducationField               6\n",
       "EnvironmentSatisfaction      4\n",
       "HourlyRate                  71\n",
       "JobInvolvement               4\n",
       "JobLevel                     5\n",
       "JobRole                      9\n",
       "JobSatisfaction              4\n",
       "MaritalStatus                3\n",
       "NumCompaniesWorked          10\n",
       "OverTime                     2\n",
       "PercentSalaryHike           15\n",
       "PerformanceRating            2\n",
       "RelationshipSatisfaction     4\n",
       "StockOptionLevel             4\n",
       "TotalWorkingYears           40\n",
       "TrainingTimesLastYear        7\n",
       "WorkLifeBalance              4\n",
       "YearsAtCompany              37\n",
       "YearsInCurrentRole          19\n",
       "YearsSinceLastPromotion     16\n",
       "YearsWithCurrManager        18\n",
       "dtype: int64"
      ]
     },
     "execution_count": 2,
     "metadata": {},
     "output_type": "execute_result"
    }
   ],
   "source": [
    "# Determine the number of unique values in each column.\n",
    "attrition_df.nunique()"
   ]
  },
  {
   "cell_type": "code",
   "execution_count": 3,
   "metadata": {
    "colab": {
     "base_uri": "https://localhost:8080/"
    },
    "id": "50vMgBEnJbfM",
    "outputId": "a1277db8-0db1-46e6-9bae-a0212eb09a87"
   },
   "outputs": [
    {
     "name": "stdout",
     "output_type": "stream",
     "text": [
      "     Attrition              Department\n",
      "0          Yes                   Sales\n",
      "1           No  Research & Development\n",
      "2          Yes  Research & Development\n",
      "3           No  Research & Development\n",
      "4           No  Research & Development\n",
      "...        ...                     ...\n",
      "1465        No  Research & Development\n",
      "1466        No  Research & Development\n",
      "1467        No  Research & Development\n",
      "1468        No                   Sales\n",
      "1469        No  Research & Development\n",
      "\n",
      "[1470 rows x 2 columns]\n"
     ]
    }
   ],
   "source": [
    "# Create y_df with the Attrition and Department columns\n",
    "y_df = attrition_df[[\"Attrition\", \"Department\"]]\n",
    "\n",
    "print(y_df)\n"
   ]
  },
  {
   "cell_type": "code",
   "execution_count": 4,
   "metadata": {
    "colab": {
     "base_uri": "https://localhost:8080/"
    },
    "id": "Virka0zLGc3R",
    "outputId": "25b439b7-6826-4622-8393-5d5667a676f9"
   },
   "outputs": [
    {
     "name": "stdout",
     "output_type": "stream",
     "text": [
      "Education                   int64\n",
      "Age                         int64\n",
      "DistanceFromHome            int64\n",
      "JobSatisfaction             int64\n",
      "OverTime                   object\n",
      "StockOptionLevel            int64\n",
      "WorkLifeBalance             int64\n",
      "YearsAtCompany              int64\n",
      "YearsSinceLastPromotion     int64\n",
      "NumCompaniesWorked          int64\n",
      "dtype: object\n"
     ]
    }
   ],
   "source": [
    "# Create a list of at least 10 column names to use as X data\n",
    "\n",
    "X_columns = [\n",
    "    \"Education\", \"Age\", \"DistanceFromHome\", \"JobSatisfaction\", \"OverTime\",\n",
    "    \"StockOptionLevel\", \"WorkLifeBalance\", \"YearsAtCompany\",\n",
    "    \"YearsSinceLastPromotion\", \"NumCompaniesWorked\"\n",
    "]\n",
    "\n",
    "\n",
    "# Create X_df using your selected columns\n",
    "X_df = attrition_df[X_columns]\n",
    "\n",
    "# Show the data types for X_df\n",
    "\n",
    "print(X_df.dtypes)"
   ]
  },
  {
   "cell_type": "code",
   "execution_count": 5,
   "metadata": {
    "colab": {
     "base_uri": "https://localhost:8080/"
    },
    "id": "KaJfdOGUMHMR",
    "outputId": "73ef0fde-dccb-4e1c-88c9-46f03c224728"
   },
   "outputs": [
    {
     "name": "stdout",
     "output_type": "stream",
     "text": [
      "X_train shape: (1176, 10)\n",
      "X_test shape: (294, 10)\n",
      "y_train shape: (1176, 2)\n",
      "y_test shape: (294, 2)\n"
     ]
    }
   ],
   "source": [
    "# Split the data into training and testing sets\n",
    "from sklearn.model_selection import train_test_split\n",
    "\n",
    "\n",
    "X = X_df\n",
    "y = y_df\n",
    "\n",
    "\n",
    "X_train, X_test, y_train, y_test = train_test_split(\n",
    "    X, y, test_size=0.2, random_state=42\n",
    ")\n",
    "\n",
    "print(f\"X_train shape: {X_train.shape}\")\n",
    "print(f\"X_test shape: {X_test.shape}\")\n",
    "print(f\"y_train shape: {y_train.shape}\")\n",
    "print(f\"y_test shape: {y_test.shape}\")\n"
   ]
  },
  {
   "cell_type": "code",
   "execution_count": 6,
   "metadata": {
    "colab": {
     "base_uri": "https://localhost:8080/"
    },
    "id": "NYubUJqiLCSp",
    "outputId": "0e31f532-f43f-4bf1-8f32-1068d5fbe244"
   },
   "outputs": [
    {
     "name": "stdout",
     "output_type": "stream",
     "text": [
      "Education                  int64\n",
      "Age                        int64\n",
      "DistanceFromHome           int64\n",
      "JobSatisfaction            int64\n",
      "OverTime                   int32\n",
      "StockOptionLevel           int64\n",
      "WorkLifeBalance            int64\n",
      "YearsAtCompany             int64\n",
      "YearsSinceLastPromotion    int64\n",
      "NumCompaniesWorked         int64\n",
      "dtype: object\n",
      "Education                  int64\n",
      "Age                        int64\n",
      "DistanceFromHome           int64\n",
      "JobSatisfaction            int64\n",
      "OverTime                   int32\n",
      "StockOptionLevel           int64\n",
      "WorkLifeBalance            int64\n",
      "YearsAtCompany             int64\n",
      "YearsSinceLastPromotion    int64\n",
      "NumCompaniesWorked         int64\n",
      "dtype: object\n",
      "      Education  Age  DistanceFromHome  JobSatisfaction  OverTime  \\\n",
      "1097          2   24                21                1         0   \n",
      "727           2   18                 5                4         0   \n",
      "254           2   29                20                4         0   \n",
      "1175          3   39                12                2         0   \n",
      "1341          3   31                20                3         0   \n",
      "\n",
      "      StockOptionLevel  WorkLifeBalance  YearsAtCompany  \\\n",
      "1097                 3                3               1   \n",
      "727                  0                3               0   \n",
      "254                  1                3               3   \n",
      "1175                 0                3               5   \n",
      "1341                 1                3              10   \n",
      "\n",
      "      YearsSinceLastPromotion  NumCompaniesWorked  \n",
      "1097                        0                   0  \n",
      "727                         0                   1  \n",
      "254                         0                   2  \n",
      "1175                        1                   4  \n",
      "1341                        0                   1  \n",
      "      Education  Age  DistanceFromHome  JobSatisfaction  OverTime  \\\n",
      "1041          3   28                 5                1         0   \n",
      "184           2   53                13                1         0   \n",
      "1222          1   24                22                3         0   \n",
      "67            3   45                 7                1         0   \n",
      "220           2   36                 5                2         0   \n",
      "\n",
      "      StockOptionLevel  WorkLifeBalance  YearsAtCompany  \\\n",
      "1041                 0                3               5   \n",
      "184                  2                3               4   \n",
      "1222                 1                3               1   \n",
      "67                   1                3               1   \n",
      "220                  0                4              13   \n",
      "\n",
      "      YearsSinceLastPromotion  NumCompaniesWorked  \n",
      "1041                        1                   0  \n",
      "184                         1                   1  \n",
      "1222                        0                   1  \n",
      "67                          0                   2  \n",
      "220                         3                   8  \n"
     ]
    }
   ],
   "source": [
    "# Convert your X data to numeric data types however you see fit\n",
    "# Add new code cells as necessary\n",
    "from sklearn.preprocessing import LabelEncoder\n",
    "X_train = X_train.copy()\n",
    "X_test = X_test.copy()\n",
    "le = LabelEncoder()\n",
    "X_train[\"OverTime\"] = le.fit_transform(X_train[\"OverTime\"])\n",
    "X_test[\"OverTime\"]  = le.fit_transform(X_test[\"OverTime\"])\n",
    "print(X_train.dtypes)\n",
    "print(X_test.dtypes)\n",
    "print(X_train.head())\n",
    "print(X_test.head())\n"
   ]
  },
  {
   "cell_type": "code",
   "execution_count": 7,
   "metadata": {
    "id": "EWA-aIA5Gc3T"
   },
   "outputs": [],
   "source": [
    "# Create a StandardScaler\n",
    "scaler = StandardScaler()\n",
    "\n",
    "# Fit the StandardScaler to the training data\n",
    "\n",
    "scaler.fit(X_train)\n",
    "# Scale the training and testing data\n",
    "\n",
    "X_train_scaled = scaler.transform(X_train)\n",
    "X_test_scaled = scaler.transform(X_test)"
   ]
  },
  {
   "cell_type": "code",
   "execution_count": 8,
   "metadata": {
    "colab": {
     "base_uri": "https://localhost:8080/"
    },
    "id": "jYoOz3OiYFe1",
    "outputId": "0c62d8d8-942d-444a-b860-41e4bba40501"
   },
   "outputs": [
    {
     "data": {
      "text/plain": [
       "array([[0., 1., 0.],\n",
       "       [0., 1., 0.],\n",
       "       [0., 0., 1.],\n",
       "       ...,\n",
       "       [0., 1., 0.],\n",
       "       [0., 1., 0.],\n",
       "       [0., 0., 1.]])"
      ]
     },
     "execution_count": 8,
     "metadata": {},
     "output_type": "execute_result"
    }
   ],
   "source": [
    "from sklearn.preprocessing import OneHotEncoder\n",
    "\n",
    "# Fit the encoder to the training data\n",
    "encoder = OneHotEncoder(sparse_output = False)\n",
    "\n",
    "# Create two new variables by applying the encoder\n",
    "# to the training and testing data\n",
    "encoder.fit(y_train[[\"Department\"]])\n",
    "department_train_encoded = encoder.transform(y_train[[\"Department\"]])\n",
    "department_test_encoded = encoder.transform(y_test[[\"Department\"]])\n",
    "\n",
    "# Display the resulting encoded arrays\n",
    "department_train_encoded"
   ]
  },
  {
   "cell_type": "code",
   "execution_count": 9,
   "metadata": {
    "colab": {
     "base_uri": "https://localhost:8080/"
    },
    "id": "lf7YfN6pZMw_",
    "outputId": "8b1435f1-4ca5-4a52-ba00-cb834e9ee2eb"
   },
   "outputs": [
    {
     "data": {
      "text/plain": [
       "array([[1., 0.],\n",
       "       [1., 0.],\n",
       "       [1., 0.],\n",
       "       ...,\n",
       "       [0., 1.],\n",
       "       [1., 0.],\n",
       "       [1., 0.]])"
      ]
     },
     "execution_count": 9,
     "metadata": {},
     "output_type": "execute_result"
    }
   ],
   "source": [
    "# Create a OneHotEncoder for the Attrition column\n",
    "attrition_encoder = OneHotEncoder(sparse_output=False, handle_unknown='ignore')\n",
    "\n",
    "# Fit the encoder to the training data\n",
    "attrition_encoder.fit(y_train[[\"Attrition\"]])\n",
    "\n",
    "# Create two new variables by applying the encoder\n",
    "attrition_train_encoded = attrition_encoder.transform(y_train[[\"Attrition\"]])\n",
    "attrition_test_encoded = attrition_encoder.transform(y_test[[\"Attrition\"]])\n",
    "attrition_train_encoded"
   ]
  },
  {
   "cell_type": "markdown",
   "metadata": {
    "id": "ykNmu_WWGc3T"
   },
   "source": [
    "## Create, Compile, and Train the Model"
   ]
  },
  {
   "cell_type": "code",
   "execution_count": 10,
   "metadata": {
    "colab": {
     "base_uri": "https://localhost:8080/"
    },
    "id": "WUptZqmSGc3T",
    "outputId": "8374eabf-b49c-4dbb-c1fb-db32442dca2c"
   },
   "outputs": [
    {
     "name": "stdout",
     "output_type": "stream",
     "text": [
      "Number of features in X_train: 10\n"
     ]
    }
   ],
   "source": [
    "from tensorflow.keras import Sequential\n",
    "from tensorflow.keras.layers import Input, Dense\n",
    "# Find the number of columns in the X training data\n",
    "num_features = X_train.shape[1]  # Number of columns (features) in the training data\n",
    "print(f\"Number of features in X_train: {num_features}\")\n",
    "\n",
    "\n",
    "# Create the input layer\n",
    "input_layer = Input(shape=(num_features,))\n",
    "\n",
    "# Create at least two shared layers\n",
    "shared_layer_1 = Dense(units=64, activation='relu')(input_layer)  # First hidden layer\n",
    "shared_layer_2 = Dense(units=32, activation='relu')(shared_layer_1)  # Second hidden layer\n"
   ]
  },
  {
   "cell_type": "code",
   "execution_count": 11,
   "metadata": {
    "id": "Up-0Sisydj09"
   },
   "outputs": [],
   "source": [
    "# Create a branch for Department\n",
    "# with a hidden layer and an output layer\n",
    "\n",
    "# Create the hidden layer\n",
    "department_hidden_layer = layers.Dense(16, activation='relu')(shared_layer_2)\n",
    "\n",
    "# Create the output layer\n",
    "department_output_layer = layers.Dense(department_train_encoded.shape[1], activation='softmax', name='department_output')(department_hidden_layer)\n",
    "\n"
   ]
  },
  {
   "cell_type": "code",
   "execution_count": 12,
   "metadata": {
    "id": "q8qDereCcAIa"
   },
   "outputs": [],
   "source": [
    "attrition_hidden_layer = Dense(16, activation='relu')(shared_layer_2)\n",
    "\n",
    "# Create the output layer\n",
    "attrition_output_layer = layers.Dense(attrition_train_encoded.shape[1], activation='sigmoid', name='attrition_output')(attrition_hidden_layer)\n"
   ]
  },
  {
   "cell_type": "code",
   "execution_count": 13,
   "metadata": {
    "colab": {
     "base_uri": "https://localhost:8080/",
     "height": 369
    },
    "id": "oK8HR0lxb4yk",
    "outputId": "8a27bc89-6421-4d3e-d0cf-6123b03d6fa0"
   },
   "outputs": [
    {
     "data": {
      "text/html": [
       "<pre style=\"white-space:pre;overflow-x:auto;line-height:normal;font-family:Menlo,'DejaVu Sans Mono',consolas,'Courier New',monospace\"><span style=\"font-weight: bold\">Model: \"functional\"</span>\n",
       "</pre>\n"
      ],
      "text/plain": [
       "\u001b[1mModel: \"functional\"\u001b[0m\n"
      ]
     },
     "metadata": {},
     "output_type": "display_data"
    },
    {
     "data": {
      "text/html": [
       "<pre style=\"white-space:pre;overflow-x:auto;line-height:normal;font-family:Menlo,'DejaVu Sans Mono',consolas,'Courier New',monospace\">┏━━━━━━━━━━━━━━━━━━━━━━━━━━━━━━━┳━━━━━━━━━━━━━━━━━━━━━━━━━━━┳━━━━━━━━━━━━━━━━━┳━━━━━━━━━━━━━━━━━━━━━━━━━━━━┓\n",
       "┃<span style=\"font-weight: bold\"> Layer (type)                  </span>┃<span style=\"font-weight: bold\"> Output Shape              </span>┃<span style=\"font-weight: bold\">         Param # </span>┃<span style=\"font-weight: bold\"> Connected to               </span>┃\n",
       "┡━━━━━━━━━━━━━━━━━━━━━━━━━━━━━━━╇━━━━━━━━━━━━━━━━━━━━━━━━━━━╇━━━━━━━━━━━━━━━━━╇━━━━━━━━━━━━━━━━━━━━━━━━━━━━┩\n",
       "│ input_layer (<span style=\"color: #0087ff; text-decoration-color: #0087ff\">InputLayer</span>)      │ (<span style=\"color: #00d7ff; text-decoration-color: #00d7ff\">None</span>, <span style=\"color: #00af00; text-decoration-color: #00af00\">10</span>)                │               <span style=\"color: #00af00; text-decoration-color: #00af00\">0</span> │ -                          │\n",
       "├───────────────────────────────┼───────────────────────────┼─────────────────┼────────────────────────────┤\n",
       "│ dense (<span style=\"color: #0087ff; text-decoration-color: #0087ff\">Dense</span>)                 │ (<span style=\"color: #00d7ff; text-decoration-color: #00d7ff\">None</span>, <span style=\"color: #00af00; text-decoration-color: #00af00\">64</span>)                │             <span style=\"color: #00af00; text-decoration-color: #00af00\">704</span> │ input_layer[<span style=\"color: #00af00; text-decoration-color: #00af00\">0</span>][<span style=\"color: #00af00; text-decoration-color: #00af00\">0</span>]          │\n",
       "├───────────────────────────────┼───────────────────────────┼─────────────────┼────────────────────────────┤\n",
       "│ dense_1 (<span style=\"color: #0087ff; text-decoration-color: #0087ff\">Dense</span>)               │ (<span style=\"color: #00d7ff; text-decoration-color: #00d7ff\">None</span>, <span style=\"color: #00af00; text-decoration-color: #00af00\">32</span>)                │           <span style=\"color: #00af00; text-decoration-color: #00af00\">2,080</span> │ dense[<span style=\"color: #00af00; text-decoration-color: #00af00\">0</span>][<span style=\"color: #00af00; text-decoration-color: #00af00\">0</span>]                │\n",
       "├───────────────────────────────┼───────────────────────────┼─────────────────┼────────────────────────────┤\n",
       "│ dense_2 (<span style=\"color: #0087ff; text-decoration-color: #0087ff\">Dense</span>)               │ (<span style=\"color: #00d7ff; text-decoration-color: #00d7ff\">None</span>, <span style=\"color: #00af00; text-decoration-color: #00af00\">16</span>)                │             <span style=\"color: #00af00; text-decoration-color: #00af00\">528</span> │ dense_1[<span style=\"color: #00af00; text-decoration-color: #00af00\">0</span>][<span style=\"color: #00af00; text-decoration-color: #00af00\">0</span>]              │\n",
       "├───────────────────────────────┼───────────────────────────┼─────────────────┼────────────────────────────┤\n",
       "│ dense_3 (<span style=\"color: #0087ff; text-decoration-color: #0087ff\">Dense</span>)               │ (<span style=\"color: #00d7ff; text-decoration-color: #00d7ff\">None</span>, <span style=\"color: #00af00; text-decoration-color: #00af00\">16</span>)                │             <span style=\"color: #00af00; text-decoration-color: #00af00\">528</span> │ dense_1[<span style=\"color: #00af00; text-decoration-color: #00af00\">0</span>][<span style=\"color: #00af00; text-decoration-color: #00af00\">0</span>]              │\n",
       "├───────────────────────────────┼───────────────────────────┼─────────────────┼────────────────────────────┤\n",
       "│ department_output (<span style=\"color: #0087ff; text-decoration-color: #0087ff\">Dense</span>)     │ (<span style=\"color: #00d7ff; text-decoration-color: #00d7ff\">None</span>, <span style=\"color: #00af00; text-decoration-color: #00af00\">3</span>)                 │              <span style=\"color: #00af00; text-decoration-color: #00af00\">51</span> │ dense_2[<span style=\"color: #00af00; text-decoration-color: #00af00\">0</span>][<span style=\"color: #00af00; text-decoration-color: #00af00\">0</span>]              │\n",
       "├───────────────────────────────┼───────────────────────────┼─────────────────┼────────────────────────────┤\n",
       "│ attrition_output (<span style=\"color: #0087ff; text-decoration-color: #0087ff\">Dense</span>)      │ (<span style=\"color: #00d7ff; text-decoration-color: #00d7ff\">None</span>, <span style=\"color: #00af00; text-decoration-color: #00af00\">2</span>)                 │              <span style=\"color: #00af00; text-decoration-color: #00af00\">34</span> │ dense_3[<span style=\"color: #00af00; text-decoration-color: #00af00\">0</span>][<span style=\"color: #00af00; text-decoration-color: #00af00\">0</span>]              │\n",
       "└───────────────────────────────┴───────────────────────────┴─────────────────┴────────────────────────────┘\n",
       "</pre>\n"
      ],
      "text/plain": [
       "┏━━━━━━━━━━━━━━━━━━━━━━━━━━━━━━━┳━━━━━━━━━━━━━━━━━━━━━━━━━━━┳━━━━━━━━━━━━━━━━━┳━━━━━━━━━━━━━━━━━━━━━━━━━━━━┓\n",
       "┃\u001b[1m \u001b[0m\u001b[1mLayer (type)                 \u001b[0m\u001b[1m \u001b[0m┃\u001b[1m \u001b[0m\u001b[1mOutput Shape             \u001b[0m\u001b[1m \u001b[0m┃\u001b[1m \u001b[0m\u001b[1m        Param #\u001b[0m\u001b[1m \u001b[0m┃\u001b[1m \u001b[0m\u001b[1mConnected to              \u001b[0m\u001b[1m \u001b[0m┃\n",
       "┡━━━━━━━━━━━━━━━━━━━━━━━━━━━━━━━╇━━━━━━━━━━━━━━━━━━━━━━━━━━━╇━━━━━━━━━━━━━━━━━╇━━━━━━━━━━━━━━━━━━━━━━━━━━━━┩\n",
       "│ input_layer (\u001b[38;5;33mInputLayer\u001b[0m)      │ (\u001b[38;5;45mNone\u001b[0m, \u001b[38;5;34m10\u001b[0m)                │               \u001b[38;5;34m0\u001b[0m │ -                          │\n",
       "├───────────────────────────────┼───────────────────────────┼─────────────────┼────────────────────────────┤\n",
       "│ dense (\u001b[38;5;33mDense\u001b[0m)                 │ (\u001b[38;5;45mNone\u001b[0m, \u001b[38;5;34m64\u001b[0m)                │             \u001b[38;5;34m704\u001b[0m │ input_layer[\u001b[38;5;34m0\u001b[0m][\u001b[38;5;34m0\u001b[0m]          │\n",
       "├───────────────────────────────┼───────────────────────────┼─────────────────┼────────────────────────────┤\n",
       "│ dense_1 (\u001b[38;5;33mDense\u001b[0m)               │ (\u001b[38;5;45mNone\u001b[0m, \u001b[38;5;34m32\u001b[0m)                │           \u001b[38;5;34m2,080\u001b[0m │ dense[\u001b[38;5;34m0\u001b[0m][\u001b[38;5;34m0\u001b[0m]                │\n",
       "├───────────────────────────────┼───────────────────────────┼─────────────────┼────────────────────────────┤\n",
       "│ dense_2 (\u001b[38;5;33mDense\u001b[0m)               │ (\u001b[38;5;45mNone\u001b[0m, \u001b[38;5;34m16\u001b[0m)                │             \u001b[38;5;34m528\u001b[0m │ dense_1[\u001b[38;5;34m0\u001b[0m][\u001b[38;5;34m0\u001b[0m]              │\n",
       "├───────────────────────────────┼───────────────────────────┼─────────────────┼────────────────────────────┤\n",
       "│ dense_3 (\u001b[38;5;33mDense\u001b[0m)               │ (\u001b[38;5;45mNone\u001b[0m, \u001b[38;5;34m16\u001b[0m)                │             \u001b[38;5;34m528\u001b[0m │ dense_1[\u001b[38;5;34m0\u001b[0m][\u001b[38;5;34m0\u001b[0m]              │\n",
       "├───────────────────────────────┼───────────────────────────┼─────────────────┼────────────────────────────┤\n",
       "│ department_output (\u001b[38;5;33mDense\u001b[0m)     │ (\u001b[38;5;45mNone\u001b[0m, \u001b[38;5;34m3\u001b[0m)                 │              \u001b[38;5;34m51\u001b[0m │ dense_2[\u001b[38;5;34m0\u001b[0m][\u001b[38;5;34m0\u001b[0m]              │\n",
       "├───────────────────────────────┼───────────────────────────┼─────────────────┼────────────────────────────┤\n",
       "│ attrition_output (\u001b[38;5;33mDense\u001b[0m)      │ (\u001b[38;5;45mNone\u001b[0m, \u001b[38;5;34m2\u001b[0m)                 │              \u001b[38;5;34m34\u001b[0m │ dense_3[\u001b[38;5;34m0\u001b[0m][\u001b[38;5;34m0\u001b[0m]              │\n",
       "└───────────────────────────────┴───────────────────────────┴─────────────────┴────────────────────────────┘\n"
      ]
     },
     "metadata": {},
     "output_type": "display_data"
    },
    {
     "data": {
      "text/html": [
       "<pre style=\"white-space:pre;overflow-x:auto;line-height:normal;font-family:Menlo,'DejaVu Sans Mono',consolas,'Courier New',monospace\"><span style=\"font-weight: bold\"> Total params: </span><span style=\"color: #00af00; text-decoration-color: #00af00\">3,925</span> (15.33 KB)\n",
       "</pre>\n"
      ],
      "text/plain": [
       "\u001b[1m Total params: \u001b[0m\u001b[38;5;34m3,925\u001b[0m (15.33 KB)\n"
      ]
     },
     "metadata": {},
     "output_type": "display_data"
    },
    {
     "data": {
      "text/html": [
       "<pre style=\"white-space:pre;overflow-x:auto;line-height:normal;font-family:Menlo,'DejaVu Sans Mono',consolas,'Courier New',monospace\"><span style=\"font-weight: bold\"> Trainable params: </span><span style=\"color: #00af00; text-decoration-color: #00af00\">3,925</span> (15.33 KB)\n",
       "</pre>\n"
      ],
      "text/plain": [
       "\u001b[1m Trainable params: \u001b[0m\u001b[38;5;34m3,925\u001b[0m (15.33 KB)\n"
      ]
     },
     "metadata": {},
     "output_type": "display_data"
    },
    {
     "data": {
      "text/html": [
       "<pre style=\"white-space:pre;overflow-x:auto;line-height:normal;font-family:Menlo,'DejaVu Sans Mono',consolas,'Courier New',monospace\"><span style=\"font-weight: bold\"> Non-trainable params: </span><span style=\"color: #00af00; text-decoration-color: #00af00\">0</span> (0.00 B)\n",
       "</pre>\n"
      ],
      "text/plain": [
       "\u001b[1m Non-trainable params: \u001b[0m\u001b[38;5;34m0\u001b[0m (0.00 B)\n"
      ]
     },
     "metadata": {},
     "output_type": "display_data"
    }
   ],
   "source": [
    "model = Model(inputs=input_layer, outputs=[department_output_layer, attrition_output_layer])\n",
    "\n",
    "# Compile the model\n",
    "model.compile(optimizer='adam',\n",
    "              loss={'department_output': 'categorical_crossentropy', 'attrition_output': 'categorical_crossentropy'},\n",
    "              metrics={'department_output': 'accuracy', 'attrition_output': 'accuracy'})\n",
    "\n",
    "# Summarize the model\n",
    "model.summary()"
   ]
  },
  {
   "cell_type": "code",
   "execution_count": 14,
   "metadata": {
    "colab": {
     "base_uri": "https://localhost:8080/"
    },
    "id": "UVwEa6VybZdh",
    "outputId": "19e56003-09b4-4124-c3a7-630a0ee30f70"
   },
   "outputs": [
    {
     "name": "stdout",
     "output_type": "stream",
     "text": [
      "Epoch 1/100\n",
      "\u001b[1m37/37\u001b[0m \u001b[32m━━━━━━━━━━━━━━━━━━━━\u001b[0m\u001b[37m\u001b[0m \u001b[1m11s\u001b[0m 41ms/step - attrition_output_accuracy: 0.7661 - attrition_output_loss: 0.5672 - department_output_accuracy: 0.5648 - department_output_loss: 0.9303 - loss: 1.4975 - val_attrition_output_accuracy: 0.8673 - val_attrition_output_loss: 0.3680 - val_department_output_accuracy: 0.6667 - val_department_output_loss: 0.7962 - val_loss: 1.1834\n",
      "Epoch 2/100\n",
      "\u001b[1m37/37\u001b[0m \u001b[32m━━━━━━━━━━━━━━━━━━━━\u001b[0m\u001b[37m\u001b[0m \u001b[1m1s\u001b[0m 15ms/step - attrition_output_accuracy: 0.8215 - attrition_output_loss: 0.4461 - department_output_accuracy: 0.6650 - department_output_loss: 0.7838 - loss: 1.2300 - val_attrition_output_accuracy: 0.8673 - val_attrition_output_loss: 0.3567 - val_department_output_accuracy: 0.6667 - val_department_output_loss: 0.7848 - val_loss: 1.1651\n",
      "Epoch 3/100\n",
      "\u001b[1m37/37\u001b[0m \u001b[32m━━━━━━━━━━━━━━━━━━━━\u001b[0m\u001b[37m\u001b[0m \u001b[1m1s\u001b[0m 12ms/step - attrition_output_accuracy: 0.8317 - attrition_output_loss: 0.4196 - department_output_accuracy: 0.6462 - department_output_loss: 0.7710 - loss: 1.1906 - val_attrition_output_accuracy: 0.8707 - val_attrition_output_loss: 0.3602 - val_department_output_accuracy: 0.6667 - val_department_output_loss: 0.7822 - val_loss: 1.1658\n",
      "Epoch 4/100\n",
      "\u001b[1m37/37\u001b[0m \u001b[32m━━━━━━━━━━━━━━━━━━━━\u001b[0m\u001b[37m\u001b[0m \u001b[1m1s\u001b[0m 10ms/step - attrition_output_accuracy: 0.8226 - attrition_output_loss: 0.4015 - department_output_accuracy: 0.6558 - department_output_loss: 0.7614 - loss: 1.1628 - val_attrition_output_accuracy: 0.8741 - val_attrition_output_loss: 0.3592 - val_department_output_accuracy: 0.6633 - val_department_output_loss: 0.7872 - val_loss: 1.1696\n",
      "Epoch 5/100\n",
      "\u001b[1m37/37\u001b[0m \u001b[32m━━━━━━━━━━━━━━━━━━━━\u001b[0m\u001b[37m\u001b[0m \u001b[1m1s\u001b[0m 18ms/step - attrition_output_accuracy: 0.8518 - attrition_output_loss: 0.3477 - department_output_accuracy: 0.6278 - department_output_loss: 0.7858 - loss: 1.1336 - val_attrition_output_accuracy: 0.8776 - val_attrition_output_loss: 0.3584 - val_department_output_accuracy: 0.6667 - val_department_output_loss: 0.7828 - val_loss: 1.1642\n",
      "Epoch 6/100\n",
      "\u001b[1m37/37\u001b[0m \u001b[32m━━━━━━━━━━━━━━━━━━━━\u001b[0m\u001b[37m\u001b[0m \u001b[1m1s\u001b[0m 10ms/step - attrition_output_accuracy: 0.8318 - attrition_output_loss: 0.3876 - department_output_accuracy: 0.6451 - department_output_loss: 0.7695 - loss: 1.1571 - val_attrition_output_accuracy: 0.8776 - val_attrition_output_loss: 0.3481 - val_department_output_accuracy: 0.6667 - val_department_output_loss: 0.7881 - val_loss: 1.1646\n",
      "Epoch 7/100\n",
      "\u001b[1m37/37\u001b[0m \u001b[32m━━━━━━━━━━━━━━━━━━━━\u001b[0m\u001b[37m\u001b[0m \u001b[1m1s\u001b[0m 14ms/step - attrition_output_accuracy: 0.8556 - attrition_output_loss: 0.3449 - department_output_accuracy: 0.6538 - department_output_loss: 0.7555 - loss: 1.1005 - val_attrition_output_accuracy: 0.8741 - val_attrition_output_loss: 0.3545 - val_department_output_accuracy: 0.6633 - val_department_output_loss: 0.7846 - val_loss: 1.1635\n",
      "Epoch 8/100\n",
      "\u001b[1m37/37\u001b[0m \u001b[32m━━━━━━━━━━━━━━━━━━━━\u001b[0m\u001b[37m\u001b[0m \u001b[1m1s\u001b[0m 13ms/step - attrition_output_accuracy: 0.8473 - attrition_output_loss: 0.3461 - department_output_accuracy: 0.6407 - department_output_loss: 0.7501 - loss: 1.0962 - val_attrition_output_accuracy: 0.8605 - val_attrition_output_loss: 0.3526 - val_department_output_accuracy: 0.6667 - val_department_output_loss: 0.7833 - val_loss: 1.1608\n",
      "Epoch 9/100\n",
      "\u001b[1m37/37\u001b[0m \u001b[32m━━━━━━━━━━━━━━━━━━━━\u001b[0m\u001b[37m\u001b[0m \u001b[1m1s\u001b[0m 12ms/step - attrition_output_accuracy: 0.8649 - attrition_output_loss: 0.3539 - department_output_accuracy: 0.6757 - department_output_loss: 0.7393 - loss: 1.0932 - val_attrition_output_accuracy: 0.8639 - val_attrition_output_loss: 0.3497 - val_department_output_accuracy: 0.6531 - val_department_output_loss: 0.7923 - val_loss: 1.1681\n",
      "Epoch 10/100\n",
      "\u001b[1m37/37\u001b[0m \u001b[32m━━━━━━━━━━━━━━━━━━━━\u001b[0m\u001b[37m\u001b[0m \u001b[1m1s\u001b[0m 13ms/step - attrition_output_accuracy: 0.8574 - attrition_output_loss: 0.3330 - department_output_accuracy: 0.6660 - department_output_loss: 0.7334 - loss: 1.0664 - val_attrition_output_accuracy: 0.8673 - val_attrition_output_loss: 0.3510 - val_department_output_accuracy: 0.6497 - val_department_output_loss: 0.7885 - val_loss: 1.1640\n",
      "Epoch 11/100\n",
      "\u001b[1m37/37\u001b[0m \u001b[32m━━━━━━━━━━━━━━━━━━━━\u001b[0m\u001b[37m\u001b[0m \u001b[1m1s\u001b[0m 14ms/step - attrition_output_accuracy: 0.8652 - attrition_output_loss: 0.3334 - department_output_accuracy: 0.6491 - department_output_loss: 0.7515 - loss: 1.0849 - val_attrition_output_accuracy: 0.8673 - val_attrition_output_loss: 0.3514 - val_department_output_accuracy: 0.6667 - val_department_output_loss: 0.7860 - val_loss: 1.1613\n",
      "Epoch 12/100\n",
      "\u001b[1m37/37\u001b[0m \u001b[32m━━━━━━━━━━━━━━━━━━━━\u001b[0m\u001b[37m\u001b[0m \u001b[1m1s\u001b[0m 18ms/step - attrition_output_accuracy: 0.8766 - attrition_output_loss: 0.3240 - department_output_accuracy: 0.6600 - department_output_loss: 0.7463 - loss: 1.0703 - val_attrition_output_accuracy: 0.8639 - val_attrition_output_loss: 0.3516 - val_department_output_accuracy: 0.6565 - val_department_output_loss: 0.7878 - val_loss: 1.1642\n",
      "Epoch 13/100\n",
      "\u001b[1m37/37\u001b[0m \u001b[32m━━━━━━━━━━━━━━━━━━━━\u001b[0m\u001b[37m\u001b[0m \u001b[1m0s\u001b[0m 11ms/step - attrition_output_accuracy: 0.8739 - attrition_output_loss: 0.3185 - department_output_accuracy: 0.6487 - department_output_loss: 0.7510 - loss: 1.0694 - val_attrition_output_accuracy: 0.8707 - val_attrition_output_loss: 0.3499 - val_department_output_accuracy: 0.6565 - val_department_output_loss: 0.7877 - val_loss: 1.1634\n",
      "Epoch 14/100\n",
      "\u001b[1m37/37\u001b[0m \u001b[32m━━━━━━━━━━━━━━━━━━━━\u001b[0m\u001b[37m\u001b[0m \u001b[1m1s\u001b[0m 17ms/step - attrition_output_accuracy: 0.8818 - attrition_output_loss: 0.3073 - department_output_accuracy: 0.6261 - department_output_loss: 0.7520 - loss: 1.0592 - val_attrition_output_accuracy: 0.8741 - val_attrition_output_loss: 0.3520 - val_department_output_accuracy: 0.6667 - val_department_output_loss: 0.7869 - val_loss: 1.1621\n",
      "Epoch 15/100\n",
      "\u001b[1m37/37\u001b[0m \u001b[32m━━━━━━━━━━━━━━━━━━━━\u001b[0m\u001b[37m\u001b[0m \u001b[1m1s\u001b[0m 17ms/step - attrition_output_accuracy: 0.8807 - attrition_output_loss: 0.3024 - department_output_accuracy: 0.6387 - department_output_loss: 0.7394 - loss: 1.0417 - val_attrition_output_accuracy: 0.8707 - val_attrition_output_loss: 0.3655 - val_department_output_accuracy: 0.6565 - val_department_output_loss: 0.7882 - val_loss: 1.1764\n",
      "Epoch 16/100\n",
      "\u001b[1m37/37\u001b[0m \u001b[32m━━━━━━━━━━━━━━━━━━━━\u001b[0m\u001b[37m\u001b[0m \u001b[1m1s\u001b[0m 10ms/step - attrition_output_accuracy: 0.8853 - attrition_output_loss: 0.3026 - department_output_accuracy: 0.6617 - department_output_loss: 0.7249 - loss: 1.0276 - val_attrition_output_accuracy: 0.8707 - val_attrition_output_loss: 0.3567 - val_department_output_accuracy: 0.6565 - val_department_output_loss: 0.7870 - val_loss: 1.1681\n",
      "Epoch 17/100\n",
      "\u001b[1m37/37\u001b[0m \u001b[32m━━━━━━━━━━━━━━━━━━━━\u001b[0m\u001b[37m\u001b[0m \u001b[1m1s\u001b[0m 14ms/step - attrition_output_accuracy: 0.8728 - attrition_output_loss: 0.3140 - department_output_accuracy: 0.6730 - department_output_loss: 0.7239 - loss: 1.0378 - val_attrition_output_accuracy: 0.8707 - val_attrition_output_loss: 0.3626 - val_department_output_accuracy: 0.6599 - val_department_output_loss: 0.7871 - val_loss: 1.1740\n",
      "Epoch 18/100\n",
      "\u001b[1m37/37\u001b[0m \u001b[32m━━━━━━━━━━━━━━━━━━━━\u001b[0m\u001b[37m\u001b[0m \u001b[1m1s\u001b[0m 19ms/step - attrition_output_accuracy: 0.8964 - attrition_output_loss: 0.2888 - department_output_accuracy: 0.6662 - department_output_loss: 0.7261 - loss: 1.0149 - val_attrition_output_accuracy: 0.8707 - val_attrition_output_loss: 0.3669 - val_department_output_accuracy: 0.6599 - val_department_output_loss: 0.7865 - val_loss: 1.1767\n",
      "Epoch 19/100\n",
      "\u001b[1m37/37\u001b[0m \u001b[32m━━━━━━━━━━━━━━━━━━━━\u001b[0m\u001b[37m\u001b[0m \u001b[1m1s\u001b[0m 12ms/step - attrition_output_accuracy: 0.8982 - attrition_output_loss: 0.2762 - department_output_accuracy: 0.6632 - department_output_loss: 0.7154 - loss: 0.9917 - val_attrition_output_accuracy: 0.8741 - val_attrition_output_loss: 0.3625 - val_department_output_accuracy: 0.6565 - val_department_output_loss: 0.7895 - val_loss: 1.1746\n",
      "Epoch 20/100\n",
      "\u001b[1m37/37\u001b[0m \u001b[32m━━━━━━━━━━━━━━━━━━━━\u001b[0m\u001b[37m\u001b[0m \u001b[1m1s\u001b[0m 14ms/step - attrition_output_accuracy: 0.8765 - attrition_output_loss: 0.2982 - department_output_accuracy: 0.6612 - department_output_loss: 0.7066 - loss: 1.0049 - val_attrition_output_accuracy: 0.8741 - val_attrition_output_loss: 0.3597 - val_department_output_accuracy: 0.6599 - val_department_output_loss: 0.7940 - val_loss: 1.1793\n",
      "Epoch 21/100\n",
      "\u001b[1m37/37\u001b[0m \u001b[32m━━━━━━━━━━━━━━━━━━━━\u001b[0m\u001b[37m\u001b[0m \u001b[1m1s\u001b[0m 16ms/step - attrition_output_accuracy: 0.8936 - attrition_output_loss: 0.2688 - department_output_accuracy: 0.6799 - department_output_loss: 0.6660 - loss: 0.9348 - val_attrition_output_accuracy: 0.8741 - val_attrition_output_loss: 0.3687 - val_department_output_accuracy: 0.6497 - val_department_output_loss: 0.7924 - val_loss: 1.1809\n",
      "Epoch 22/100\n",
      "\u001b[1m37/37\u001b[0m \u001b[32m━━━━━━━━━━━━━━━━━━━━\u001b[0m\u001b[37m\u001b[0m \u001b[1m1s\u001b[0m 15ms/step - attrition_output_accuracy: 0.9021 - attrition_output_loss: 0.2590 - department_output_accuracy: 0.6857 - department_output_loss: 0.7069 - loss: 0.9659 - val_attrition_output_accuracy: 0.8741 - val_attrition_output_loss: 0.3568 - val_department_output_accuracy: 0.6565 - val_department_output_loss: 0.7933 - val_loss: 1.1753\n",
      "Epoch 23/100\n",
      "\u001b[1m37/37\u001b[0m \u001b[32m━━━━━━━━━━━━━━━━━━━━\u001b[0m\u001b[37m\u001b[0m \u001b[1m1s\u001b[0m 18ms/step - attrition_output_accuracy: 0.8895 - attrition_output_loss: 0.2632 - department_output_accuracy: 0.6865 - department_output_loss: 0.6706 - loss: 0.9340 - val_attrition_output_accuracy: 0.8741 - val_attrition_output_loss: 0.3675 - val_department_output_accuracy: 0.6599 - val_department_output_loss: 0.7977 - val_loss: 1.1890\n",
      "Epoch 24/100\n",
      "\u001b[1m37/37\u001b[0m \u001b[32m━━━━━━━━━━━━━━━━━━━━\u001b[0m\u001b[37m\u001b[0m \u001b[1m1s\u001b[0m 11ms/step - attrition_output_accuracy: 0.8700 - attrition_output_loss: 0.3025 - department_output_accuracy: 0.6604 - department_output_loss: 0.7104 - loss: 1.0129 - val_attrition_output_accuracy: 0.8776 - val_attrition_output_loss: 0.3649 - val_department_output_accuracy: 0.6599 - val_department_output_loss: 0.8026 - val_loss: 1.1941\n",
      "Epoch 25/100\n",
      "\u001b[1m37/37\u001b[0m \u001b[32m━━━━━━━━━━━━━━━━━━━━\u001b[0m\u001b[37m\u001b[0m \u001b[1m1s\u001b[0m 15ms/step - attrition_output_accuracy: 0.8834 - attrition_output_loss: 0.2809 - department_output_accuracy: 0.6785 - department_output_loss: 0.6958 - loss: 0.9768 - val_attrition_output_accuracy: 0.8741 - val_attrition_output_loss: 0.3684 - val_department_output_accuracy: 0.6327 - val_department_output_loss: 0.8047 - val_loss: 1.1995\n",
      "Epoch 26/100\n",
      "\u001b[1m37/37\u001b[0m \u001b[32m━━━━━━━━━━━━━━━━━━━━\u001b[0m\u001b[37m\u001b[0m \u001b[1m1s\u001b[0m 10ms/step - attrition_output_accuracy: 0.9073 - attrition_output_loss: 0.2448 - department_output_accuracy: 0.7000 - department_output_loss: 0.6772 - loss: 0.9220 - val_attrition_output_accuracy: 0.8673 - val_attrition_output_loss: 0.3773 - val_department_output_accuracy: 0.6633 - val_department_output_loss: 0.8031 - val_loss: 1.2009\n",
      "Epoch 27/100\n",
      "\u001b[1m37/37\u001b[0m \u001b[32m━━━━━━━━━━━━━━━━━━━━\u001b[0m\u001b[37m\u001b[0m \u001b[1m1s\u001b[0m 11ms/step - attrition_output_accuracy: 0.9154 - attrition_output_loss: 0.2366 - department_output_accuracy: 0.6861 - department_output_loss: 0.6728 - loss: 0.9094 - val_attrition_output_accuracy: 0.8673 - val_attrition_output_loss: 0.3875 - val_department_output_accuracy: 0.6735 - val_department_output_loss: 0.8108 - val_loss: 1.2211\n",
      "Epoch 28/100\n",
      "\u001b[1m37/37\u001b[0m \u001b[32m━━━━━━━━━━━━━━━━━━━━\u001b[0m\u001b[37m\u001b[0m \u001b[1m1s\u001b[0m 14ms/step - attrition_output_accuracy: 0.8934 - attrition_output_loss: 0.2672 - department_output_accuracy: 0.6970 - department_output_loss: 0.6704 - loss: 0.9377 - val_attrition_output_accuracy: 0.8707 - val_attrition_output_loss: 0.3746 - val_department_output_accuracy: 0.6599 - val_department_output_loss: 0.8115 - val_loss: 1.2104\n",
      "Epoch 29/100\n",
      "\u001b[1m37/37\u001b[0m \u001b[32m━━━━━━━━━━━━━━━━━━━━\u001b[0m\u001b[37m\u001b[0m \u001b[1m1s\u001b[0m 12ms/step - attrition_output_accuracy: 0.9066 - attrition_output_loss: 0.2611 - department_output_accuracy: 0.6805 - department_output_loss: 0.6738 - loss: 0.9348 - val_attrition_output_accuracy: 0.8776 - val_attrition_output_loss: 0.3752 - val_department_output_accuracy: 0.6463 - val_department_output_loss: 0.8146 - val_loss: 1.2169\n",
      "Epoch 30/100\n",
      "\u001b[1m37/37\u001b[0m \u001b[32m━━━━━━━━━━━━━━━━━━━━\u001b[0m\u001b[37m\u001b[0m \u001b[1m1s\u001b[0m 15ms/step - attrition_output_accuracy: 0.9030 - attrition_output_loss: 0.2471 - department_output_accuracy: 0.7130 - department_output_loss: 0.6370 - loss: 0.8840 - val_attrition_output_accuracy: 0.8673 - val_attrition_output_loss: 0.3809 - val_department_output_accuracy: 0.6361 - val_department_output_loss: 0.8176 - val_loss: 1.2225\n",
      "Epoch 31/100\n",
      "\u001b[1m37/37\u001b[0m \u001b[32m━━━━━━━━━━━━━━━━━━━━\u001b[0m\u001b[37m\u001b[0m \u001b[1m1s\u001b[0m 12ms/step - attrition_output_accuracy: 0.8949 - attrition_output_loss: 0.2624 - department_output_accuracy: 0.6862 - department_output_loss: 0.6587 - loss: 0.9211 - val_attrition_output_accuracy: 0.8605 - val_attrition_output_loss: 0.3904 - val_department_output_accuracy: 0.6224 - val_department_output_loss: 0.8186 - val_loss: 1.2308\n",
      "Epoch 32/100\n",
      "\u001b[1m37/37\u001b[0m \u001b[32m━━━━━━━━━━━━━━━━━━━━\u001b[0m\u001b[37m\u001b[0m \u001b[1m1s\u001b[0m 22ms/step - attrition_output_accuracy: 0.9089 - attrition_output_loss: 0.2439 - department_output_accuracy: 0.7137 - department_output_loss: 0.6465 - loss: 0.8905 - val_attrition_output_accuracy: 0.8707 - val_attrition_output_loss: 0.3809 - val_department_output_accuracy: 0.6088 - val_department_output_loss: 0.8291 - val_loss: 1.2387\n",
      "Epoch 33/100\n",
      "\u001b[1m37/37\u001b[0m \u001b[32m━━━━━━━━━━━━━━━━━━━━\u001b[0m\u001b[37m\u001b[0m \u001b[1m1s\u001b[0m 15ms/step - attrition_output_accuracy: 0.9014 - attrition_output_loss: 0.2386 - department_output_accuracy: 0.7166 - department_output_loss: 0.6299 - loss: 0.8686 - val_attrition_output_accuracy: 0.8571 - val_attrition_output_loss: 0.3905 - val_department_output_accuracy: 0.6531 - val_department_output_loss: 0.8266 - val_loss: 1.2426\n",
      "Epoch 34/100\n",
      "\u001b[1m37/37\u001b[0m \u001b[32m━━━━━━━━━━━━━━━━━━━━\u001b[0m\u001b[37m\u001b[0m \u001b[1m1s\u001b[0m 17ms/step - attrition_output_accuracy: 0.9081 - attrition_output_loss: 0.2359 - department_output_accuracy: 0.7308 - department_output_loss: 0.6299 - loss: 0.8657 - val_attrition_output_accuracy: 0.8673 - val_attrition_output_loss: 0.3945 - val_department_output_accuracy: 0.6361 - val_department_output_loss: 0.8323 - val_loss: 1.2537\n",
      "Epoch 35/100\n",
      "\u001b[1m37/37\u001b[0m \u001b[32m━━━━━━━━━━━━━━━━━━━━\u001b[0m\u001b[37m\u001b[0m \u001b[1m1s\u001b[0m 13ms/step - attrition_output_accuracy: 0.9232 - attrition_output_loss: 0.2138 - department_output_accuracy: 0.7175 - department_output_loss: 0.6319 - loss: 0.8457 - val_attrition_output_accuracy: 0.8673 - val_attrition_output_loss: 0.4024 - val_department_output_accuracy: 0.6054 - val_department_output_loss: 0.8399 - val_loss: 1.2701\n",
      "Epoch 36/100\n",
      "\u001b[1m37/37\u001b[0m \u001b[32m━━━━━━━━━━━━━━━━━━━━\u001b[0m\u001b[37m\u001b[0m \u001b[1m1s\u001b[0m 16ms/step - attrition_output_accuracy: 0.9044 - attrition_output_loss: 0.2348 - department_output_accuracy: 0.7275 - department_output_loss: 0.6197 - loss: 0.8545 - val_attrition_output_accuracy: 0.8707 - val_attrition_output_loss: 0.3918 - val_department_output_accuracy: 0.6327 - val_department_output_loss: 0.8295 - val_loss: 1.2520\n",
      "Epoch 37/100\n",
      "\u001b[1m37/37\u001b[0m \u001b[32m━━━━━━━━━━━━━━━━━━━━\u001b[0m\u001b[37m\u001b[0m \u001b[1m1s\u001b[0m 14ms/step - attrition_output_accuracy: 0.9274 - attrition_output_loss: 0.2051 - department_output_accuracy: 0.7428 - department_output_loss: 0.6273 - loss: 0.8325 - val_attrition_output_accuracy: 0.8537 - val_attrition_output_loss: 0.4035 - val_department_output_accuracy: 0.6395 - val_department_output_loss: 0.8382 - val_loss: 1.2695\n",
      "Epoch 38/100\n",
      "\u001b[1m37/37\u001b[0m \u001b[32m━━━━━━━━━━━━━━━━━━━━\u001b[0m\u001b[37m\u001b[0m \u001b[1m1s\u001b[0m 17ms/step - attrition_output_accuracy: 0.9025 - attrition_output_loss: 0.2448 - department_output_accuracy: 0.7166 - department_output_loss: 0.6470 - loss: 0.8919 - val_attrition_output_accuracy: 0.8605 - val_attrition_output_loss: 0.4039 - val_department_output_accuracy: 0.6190 - val_department_output_loss: 0.8381 - val_loss: 1.2721\n",
      "Epoch 39/100\n",
      "\u001b[1m37/37\u001b[0m \u001b[32m━━━━━━━━━━━━━━━━━━━━\u001b[0m\u001b[37m\u001b[0m \u001b[1m1s\u001b[0m 14ms/step - attrition_output_accuracy: 0.9213 - attrition_output_loss: 0.2198 - department_output_accuracy: 0.7518 - department_output_loss: 0.6088 - loss: 0.8287 - val_attrition_output_accuracy: 0.8673 - val_attrition_output_loss: 0.4124 - val_department_output_accuracy: 0.6531 - val_department_output_loss: 0.8513 - val_loss: 1.2954\n",
      "Epoch 40/100\n",
      "\u001b[1m37/37\u001b[0m \u001b[32m━━━━━━━━━━━━━━━━━━━━\u001b[0m\u001b[37m\u001b[0m \u001b[1m1s\u001b[0m 15ms/step - attrition_output_accuracy: 0.9157 - attrition_output_loss: 0.2104 - department_output_accuracy: 0.7325 - department_output_loss: 0.5909 - loss: 0.8014 - val_attrition_output_accuracy: 0.8605 - val_attrition_output_loss: 0.4009 - val_department_output_accuracy: 0.6361 - val_department_output_loss: 0.8482 - val_loss: 1.2799\n",
      "Epoch 41/100\n",
      "\u001b[1m37/37\u001b[0m \u001b[32m━━━━━━━━━━━━━━━━━━━━\u001b[0m\u001b[37m\u001b[0m \u001b[1m1s\u001b[0m 16ms/step - attrition_output_accuracy: 0.9212 - attrition_output_loss: 0.2228 - department_output_accuracy: 0.7465 - department_output_loss: 0.5859 - loss: 0.8087 - val_attrition_output_accuracy: 0.8673 - val_attrition_output_loss: 0.4140 - val_department_output_accuracy: 0.6395 - val_department_output_loss: 0.8617 - val_loss: 1.3074\n",
      "Epoch 42/100\n",
      "\u001b[1m37/37\u001b[0m \u001b[32m━━━━━━━━━━━━━━━━━━━━\u001b[0m\u001b[37m\u001b[0m \u001b[1m1s\u001b[0m 20ms/step - attrition_output_accuracy: 0.9151 - attrition_output_loss: 0.2073 - department_output_accuracy: 0.7433 - department_output_loss: 0.6008 - loss: 0.8080 - val_attrition_output_accuracy: 0.8503 - val_attrition_output_loss: 0.4406 - val_department_output_accuracy: 0.6327 - val_department_output_loss: 0.8584 - val_loss: 1.3225\n",
      "Epoch 43/100\n",
      "\u001b[1m37/37\u001b[0m \u001b[32m━━━━━━━━━━━━━━━━━━━━\u001b[0m\u001b[37m\u001b[0m \u001b[1m1s\u001b[0m 14ms/step - attrition_output_accuracy: 0.9290 - attrition_output_loss: 0.2035 - department_output_accuracy: 0.7577 - department_output_loss: 0.5802 - loss: 0.7836 - val_attrition_output_accuracy: 0.8571 - val_attrition_output_loss: 0.4293 - val_department_output_accuracy: 0.5952 - val_department_output_loss: 0.8682 - val_loss: 1.3174\n",
      "Epoch 44/100\n",
      "\u001b[1m37/37\u001b[0m \u001b[32m━━━━━━━━━━━━━━━━━━━━\u001b[0m\u001b[37m\u001b[0m \u001b[1m1s\u001b[0m 18ms/step - attrition_output_accuracy: 0.9282 - attrition_output_loss: 0.1977 - department_output_accuracy: 0.7637 - department_output_loss: 0.5819 - loss: 0.7795 - val_attrition_output_accuracy: 0.8503 - val_attrition_output_loss: 0.4328 - val_department_output_accuracy: 0.6088 - val_department_output_loss: 0.8674 - val_loss: 1.3307\n",
      "Epoch 45/100\n",
      "\u001b[1m37/37\u001b[0m \u001b[32m━━━━━━━━━━━━━━━━━━━━\u001b[0m\u001b[37m\u001b[0m \u001b[1m1s\u001b[0m 15ms/step - attrition_output_accuracy: 0.9344 - attrition_output_loss: 0.1900 - department_output_accuracy: 0.7529 - department_output_loss: 0.5948 - loss: 0.7848 - val_attrition_output_accuracy: 0.8537 - val_attrition_output_loss: 0.4351 - val_department_output_accuracy: 0.6361 - val_department_output_loss: 0.8710 - val_loss: 1.3326\n",
      "Epoch 46/100\n",
      "\u001b[1m37/37\u001b[0m \u001b[32m━━━━━━━━━━━━━━━━━━━━\u001b[0m\u001b[37m\u001b[0m \u001b[1m1s\u001b[0m 13ms/step - attrition_output_accuracy: 0.9246 - attrition_output_loss: 0.2056 - department_output_accuracy: 0.7528 - department_output_loss: 0.5930 - loss: 0.7988 - val_attrition_output_accuracy: 0.8571 - val_attrition_output_loss: 0.4377 - val_department_output_accuracy: 0.5952 - val_department_output_loss: 0.8790 - val_loss: 1.3434\n",
      "Epoch 47/100\n",
      "\u001b[1m37/37\u001b[0m \u001b[32m━━━━━━━━━━━━━━━━━━━━\u001b[0m\u001b[37m\u001b[0m \u001b[1m1s\u001b[0m 16ms/step - attrition_output_accuracy: 0.9281 - attrition_output_loss: 0.1893 - department_output_accuracy: 0.7668 - department_output_loss: 0.5490 - loss: 0.7383 - val_attrition_output_accuracy: 0.8537 - val_attrition_output_loss: 0.4353 - val_department_output_accuracy: 0.5986 - val_department_output_loss: 0.8708 - val_loss: 1.3396\n",
      "Epoch 48/100\n",
      "\u001b[1m37/37\u001b[0m \u001b[32m━━━━━━━━━━━━━━━━━━━━\u001b[0m\u001b[37m\u001b[0m \u001b[1m1s\u001b[0m 12ms/step - attrition_output_accuracy: 0.9063 - attrition_output_loss: 0.2174 - department_output_accuracy: 0.7636 - department_output_loss: 0.5626 - loss: 0.7799 - val_attrition_output_accuracy: 0.8435 - val_attrition_output_loss: 0.4583 - val_department_output_accuracy: 0.6565 - val_department_output_loss: 0.9057 - val_loss: 1.3915\n",
      "Epoch 49/100\n",
      "\u001b[1m37/37\u001b[0m \u001b[32m━━━━━━━━━━━━━━━━━━━━\u001b[0m\u001b[37m\u001b[0m \u001b[1m1s\u001b[0m 18ms/step - attrition_output_accuracy: 0.9280 - attrition_output_loss: 0.1889 - department_output_accuracy: 0.7864 - department_output_loss: 0.5303 - loss: 0.7193 - val_attrition_output_accuracy: 0.8571 - val_attrition_output_loss: 0.4319 - val_department_output_accuracy: 0.5850 - val_department_output_loss: 0.8892 - val_loss: 1.3639\n",
      "Epoch 50/100\n",
      "\u001b[1m37/37\u001b[0m \u001b[32m━━━━━━━━━━━━━━━━━━━━\u001b[0m\u001b[37m\u001b[0m \u001b[1m1s\u001b[0m 12ms/step - attrition_output_accuracy: 0.9391 - attrition_output_loss: 0.1775 - department_output_accuracy: 0.7683 - department_output_loss: 0.5479 - loss: 0.7253 - val_attrition_output_accuracy: 0.8571 - val_attrition_output_loss: 0.4578 - val_department_output_accuracy: 0.5748 - val_department_output_loss: 0.9070 - val_loss: 1.3950\n",
      "Epoch 51/100\n",
      "\u001b[1m37/37\u001b[0m \u001b[32m━━━━━━━━━━━━━━━━━━━━\u001b[0m\u001b[37m\u001b[0m \u001b[1m1s\u001b[0m 17ms/step - attrition_output_accuracy: 0.9206 - attrition_output_loss: 0.2059 - department_output_accuracy: 0.7796 - department_output_loss: 0.5273 - loss: 0.7332 - val_attrition_output_accuracy: 0.8537 - val_attrition_output_loss: 0.4631 - val_department_output_accuracy: 0.6122 - val_department_output_loss: 0.9088 - val_loss: 1.4083\n",
      "Epoch 52/100\n",
      "\u001b[1m37/37\u001b[0m \u001b[32m━━━━━━━━━━━━━━━━━━━━\u001b[0m\u001b[37m\u001b[0m \u001b[1m1s\u001b[0m 17ms/step - attrition_output_accuracy: 0.9221 - attrition_output_loss: 0.1927 - department_output_accuracy: 0.7928 - department_output_loss: 0.5285 - loss: 0.7209 - val_attrition_output_accuracy: 0.8537 - val_attrition_output_loss: 0.4608 - val_department_output_accuracy: 0.6224 - val_department_output_loss: 0.9292 - val_loss: 1.4282\n",
      "Epoch 53/100\n",
      "\u001b[1m37/37\u001b[0m \u001b[32m━━━━━━━━━━━━━━━━━━━━\u001b[0m\u001b[37m\u001b[0m \u001b[1m1s\u001b[0m 22ms/step - attrition_output_accuracy: 0.9426 - attrition_output_loss: 0.1716 - department_output_accuracy: 0.7990 - department_output_loss: 0.5252 - loss: 0.6969 - val_attrition_output_accuracy: 0.8605 - val_attrition_output_loss: 0.4722 - val_department_output_accuracy: 0.6054 - val_department_output_loss: 0.9267 - val_loss: 1.4309\n",
      "Epoch 54/100\n",
      "\u001b[1m37/37\u001b[0m \u001b[32m━━━━━━━━━━━━━━━━━━━━\u001b[0m\u001b[37m\u001b[0m \u001b[1m1s\u001b[0m 21ms/step - attrition_output_accuracy: 0.9326 - attrition_output_loss: 0.1863 - department_output_accuracy: 0.7830 - department_output_loss: 0.5310 - loss: 0.7173 - val_attrition_output_accuracy: 0.8639 - val_attrition_output_loss: 0.4814 - val_department_output_accuracy: 0.5578 - val_department_output_loss: 0.9308 - val_loss: 1.4431\n",
      "Epoch 55/100\n",
      "\u001b[1m37/37\u001b[0m \u001b[32m━━━━━━━━━━━━━━━━━━━━\u001b[0m\u001b[37m\u001b[0m \u001b[1m1s\u001b[0m 15ms/step - attrition_output_accuracy: 0.9407 - attrition_output_loss: 0.1540 - department_output_accuracy: 0.8123 - department_output_loss: 0.5026 - loss: 0.6565 - val_attrition_output_accuracy: 0.8571 - val_attrition_output_loss: 0.4812 - val_department_output_accuracy: 0.5986 - val_department_output_loss: 0.9387 - val_loss: 1.4596\n",
      "Epoch 56/100\n",
      "\u001b[1m37/37\u001b[0m \u001b[32m━━━━━━━━━━━━━━━━━━━━\u001b[0m\u001b[37m\u001b[0m \u001b[1m1s\u001b[0m 13ms/step - attrition_output_accuracy: 0.9365 - attrition_output_loss: 0.1778 - department_output_accuracy: 0.7789 - department_output_loss: 0.5167 - loss: 0.6945 - val_attrition_output_accuracy: 0.8537 - val_attrition_output_loss: 0.4880 - val_department_output_accuracy: 0.6122 - val_department_output_loss: 0.9475 - val_loss: 1.4750\n",
      "Epoch 57/100\n",
      "\u001b[1m37/37\u001b[0m \u001b[32m━━━━━━━━━━━━━━━━━━━━\u001b[0m\u001b[37m\u001b[0m \u001b[1m1s\u001b[0m 13ms/step - attrition_output_accuracy: 0.9399 - attrition_output_loss: 0.1654 - department_output_accuracy: 0.8288 - department_output_loss: 0.4833 - loss: 0.6487 - val_attrition_output_accuracy: 0.8435 - val_attrition_output_loss: 0.4881 - val_department_output_accuracy: 0.5680 - val_department_output_loss: 0.9568 - val_loss: 1.4907\n",
      "Epoch 58/100\n",
      "\u001b[1m37/37\u001b[0m \u001b[32m━━━━━━━━━━━━━━━━━━━━\u001b[0m\u001b[37m\u001b[0m \u001b[1m1s\u001b[0m 12ms/step - attrition_output_accuracy: 0.9312 - attrition_output_loss: 0.1707 - department_output_accuracy: 0.8259 - department_output_loss: 0.4879 - loss: 0.6586 - val_attrition_output_accuracy: 0.8469 - val_attrition_output_loss: 0.4941 - val_department_output_accuracy: 0.5680 - val_department_output_loss: 0.9658 - val_loss: 1.4956\n",
      "Epoch 59/100\n",
      "\u001b[1m37/37\u001b[0m \u001b[32m━━━━━━━━━━━━━━━━━━━━\u001b[0m\u001b[37m\u001b[0m \u001b[1m1s\u001b[0m 15ms/step - attrition_output_accuracy: 0.9402 - attrition_output_loss: 0.1783 - department_output_accuracy: 0.8234 - department_output_loss: 0.4797 - loss: 0.6580 - val_attrition_output_accuracy: 0.8299 - val_attrition_output_loss: 0.5036 - val_department_output_accuracy: 0.6054 - val_department_output_loss: 0.9665 - val_loss: 1.5128\n",
      "Epoch 60/100\n",
      "\u001b[1m37/37\u001b[0m \u001b[32m━━━━━━━━━━━━━━━━━━━━\u001b[0m\u001b[37m\u001b[0m \u001b[1m1s\u001b[0m 13ms/step - attrition_output_accuracy: 0.9343 - attrition_output_loss: 0.1730 - department_output_accuracy: 0.7953 - department_output_loss: 0.5031 - loss: 0.6762 - val_attrition_output_accuracy: 0.8537 - val_attrition_output_loss: 0.5118 - val_department_output_accuracy: 0.5612 - val_department_output_loss: 0.9848 - val_loss: 1.5528\n",
      "Epoch 61/100\n",
      "\u001b[1m37/37\u001b[0m \u001b[32m━━━━━━━━━━━━━━━━━━━━\u001b[0m\u001b[37m\u001b[0m \u001b[1m1s\u001b[0m 12ms/step - attrition_output_accuracy: 0.9383 - attrition_output_loss: 0.1668 - department_output_accuracy: 0.8162 - department_output_loss: 0.4837 - loss: 0.6506 - val_attrition_output_accuracy: 0.8197 - val_attrition_output_loss: 0.5066 - val_department_output_accuracy: 0.5986 - val_department_output_loss: 0.9901 - val_loss: 1.5361\n",
      "Epoch 62/100\n",
      "\u001b[1m37/37\u001b[0m \u001b[32m━━━━━━━━━━━━━━━━━━━━\u001b[0m\u001b[37m\u001b[0m \u001b[1m1s\u001b[0m 16ms/step - attrition_output_accuracy: 0.9422 - attrition_output_loss: 0.1612 - department_output_accuracy: 0.8247 - department_output_loss: 0.4628 - loss: 0.6241 - val_attrition_output_accuracy: 0.8299 - val_attrition_output_loss: 0.5321 - val_department_output_accuracy: 0.5782 - val_department_output_loss: 1.0060 - val_loss: 1.5689\n",
      "Epoch 63/100\n",
      "\u001b[1m37/37\u001b[0m \u001b[32m━━━━━━━━━━━━━━━━━━━━\u001b[0m\u001b[37m\u001b[0m \u001b[1m1s\u001b[0m 14ms/step - attrition_output_accuracy: 0.9518 - attrition_output_loss: 0.1492 - department_output_accuracy: 0.8250 - department_output_loss: 0.4738 - loss: 0.6229 - val_attrition_output_accuracy: 0.8129 - val_attrition_output_loss: 0.5406 - val_department_output_accuracy: 0.5782 - val_department_output_loss: 0.9967 - val_loss: 1.5751\n",
      "Epoch 64/100\n",
      "\u001b[1m37/37\u001b[0m \u001b[32m━━━━━━━━━━━━━━━━━━━━\u001b[0m\u001b[37m\u001b[0m \u001b[1m1s\u001b[0m 13ms/step - attrition_output_accuracy: 0.9406 - attrition_output_loss: 0.1571 - department_output_accuracy: 0.8300 - department_output_loss: 0.4588 - loss: 0.6159 - val_attrition_output_accuracy: 0.8571 - val_attrition_output_loss: 0.5386 - val_department_output_accuracy: 0.6020 - val_department_output_loss: 1.0168 - val_loss: 1.6069\n",
      "Epoch 65/100\n",
      "\u001b[1m37/37\u001b[0m \u001b[32m━━━━━━━━━━━━━━━━━━━━\u001b[0m\u001b[37m\u001b[0m \u001b[1m1s\u001b[0m 19ms/step - attrition_output_accuracy: 0.9300 - attrition_output_loss: 0.1771 - department_output_accuracy: 0.8226 - department_output_loss: 0.4822 - loss: 0.6592 - val_attrition_output_accuracy: 0.8367 - val_attrition_output_loss: 0.5432 - val_department_output_accuracy: 0.5986 - val_department_output_loss: 1.0150 - val_loss: 1.5974\n",
      "Epoch 66/100\n",
      "\u001b[1m37/37\u001b[0m \u001b[32m━━━━━━━━━━━━━━━━━━━━\u001b[0m\u001b[37m\u001b[0m \u001b[1m1s\u001b[0m 19ms/step - attrition_output_accuracy: 0.9606 - attrition_output_loss: 0.1386 - department_output_accuracy: 0.8487 - department_output_loss: 0.4426 - loss: 0.5812 - val_attrition_output_accuracy: 0.8401 - val_attrition_output_loss: 0.5459 - val_department_output_accuracy: 0.5612 - val_department_output_loss: 1.0329 - val_loss: 1.6199\n",
      "Epoch 67/100\n",
      "\u001b[1m37/37\u001b[0m \u001b[32m━━━━━━━━━━━━━━━━━━━━\u001b[0m\u001b[37m\u001b[0m \u001b[1m1s\u001b[0m 13ms/step - attrition_output_accuracy: 0.9483 - attrition_output_loss: 0.1466 - department_output_accuracy: 0.8362 - department_output_loss: 0.4524 - loss: 0.5990 - val_attrition_output_accuracy: 0.8469 - val_attrition_output_loss: 0.5538 - val_department_output_accuracy: 0.5850 - val_department_output_loss: 1.0599 - val_loss: 1.6632\n",
      "Epoch 68/100\n",
      "\u001b[1m37/37\u001b[0m \u001b[32m━━━━━━━━━━━━━━━━━━━━\u001b[0m\u001b[37m\u001b[0m \u001b[1m1s\u001b[0m 18ms/step - attrition_output_accuracy: 0.9533 - attrition_output_loss: 0.1392 - department_output_accuracy: 0.8226 - department_output_loss: 0.4482 - loss: 0.5875 - val_attrition_output_accuracy: 0.8231 - val_attrition_output_loss: 0.5541 - val_department_output_accuracy: 0.6020 - val_department_output_loss: 1.0482 - val_loss: 1.6420\n",
      "Epoch 69/100\n",
      "\u001b[1m37/37\u001b[0m \u001b[32m━━━━━━━━━━━━━━━━━━━━\u001b[0m\u001b[37m\u001b[0m \u001b[1m1s\u001b[0m 16ms/step - attrition_output_accuracy: 0.9539 - attrition_output_loss: 0.1415 - department_output_accuracy: 0.8211 - department_output_loss: 0.4406 - loss: 0.5820 - val_attrition_output_accuracy: 0.8435 - val_attrition_output_loss: 0.5680 - val_department_output_accuracy: 0.5544 - val_department_output_loss: 1.0568 - val_loss: 1.6716\n",
      "Epoch 70/100\n",
      "\u001b[1m37/37\u001b[0m \u001b[32m━━━━━━━━━━━━━━━━━━━━\u001b[0m\u001b[37m\u001b[0m \u001b[1m1s\u001b[0m 13ms/step - attrition_output_accuracy: 0.9557 - attrition_output_loss: 0.1425 - department_output_accuracy: 0.8393 - department_output_loss: 0.4216 - loss: 0.5641 - val_attrition_output_accuracy: 0.8265 - val_attrition_output_loss: 0.5679 - val_department_output_accuracy: 0.5850 - val_department_output_loss: 1.0565 - val_loss: 1.6816\n",
      "Epoch 71/100\n",
      "\u001b[1m37/37\u001b[0m \u001b[32m━━━━━━━━━━━━━━━━━━━━\u001b[0m\u001b[37m\u001b[0m \u001b[1m1s\u001b[0m 16ms/step - attrition_output_accuracy: 0.9415 - attrition_output_loss: 0.1352 - department_output_accuracy: 0.8421 - department_output_loss: 0.4355 - loss: 0.5707 - val_attrition_output_accuracy: 0.8503 - val_attrition_output_loss: 0.5724 - val_department_output_accuracy: 0.5884 - val_department_output_loss: 1.0791 - val_loss: 1.7025\n",
      "Epoch 72/100\n",
      "\u001b[1m37/37\u001b[0m \u001b[32m━━━━━━━━━━━━━━━━━━━━\u001b[0m\u001b[37m\u001b[0m \u001b[1m1s\u001b[0m 19ms/step - attrition_output_accuracy: 0.9597 - attrition_output_loss: 0.1279 - department_output_accuracy: 0.8372 - department_output_loss: 0.4254 - loss: 0.5534 - val_attrition_output_accuracy: 0.8197 - val_attrition_output_loss: 0.5894 - val_department_output_accuracy: 0.5986 - val_department_output_loss: 1.0793 - val_loss: 1.7099\n",
      "Epoch 73/100\n",
      "\u001b[1m37/37\u001b[0m \u001b[32m━━━━━━━━━━━━━━━━━━━━\u001b[0m\u001b[37m\u001b[0m \u001b[1m1s\u001b[0m 14ms/step - attrition_output_accuracy: 0.9709 - attrition_output_loss: 0.1122 - department_output_accuracy: 0.8319 - department_output_loss: 0.4339 - loss: 0.5461 - val_attrition_output_accuracy: 0.8231 - val_attrition_output_loss: 0.5967 - val_department_output_accuracy: 0.5850 - val_department_output_loss: 1.0762 - val_loss: 1.7266\n",
      "Epoch 74/100\n",
      "\u001b[1m37/37\u001b[0m \u001b[32m━━━━━━━━━━━━━━━━━━━━\u001b[0m\u001b[37m\u001b[0m \u001b[1m1s\u001b[0m 13ms/step - attrition_output_accuracy: 0.9469 - attrition_output_loss: 0.1356 - department_output_accuracy: 0.8551 - department_output_loss: 0.4196 - loss: 0.5553 - val_attrition_output_accuracy: 0.8469 - val_attrition_output_loss: 0.5810 - val_department_output_accuracy: 0.5510 - val_department_output_loss: 1.1184 - val_loss: 1.7598\n",
      "Epoch 75/100\n",
      "\u001b[1m37/37\u001b[0m \u001b[32m━━━━━━━━━━━━━━━━━━━━\u001b[0m\u001b[37m\u001b[0m \u001b[1m1s\u001b[0m 17ms/step - attrition_output_accuracy: 0.9626 - attrition_output_loss: 0.1197 - department_output_accuracy: 0.8474 - department_output_loss: 0.4264 - loss: 0.5462 - val_attrition_output_accuracy: 0.8299 - val_attrition_output_loss: 0.6026 - val_department_output_accuracy: 0.5884 - val_department_output_loss: 1.1327 - val_loss: 1.7974\n",
      "Epoch 76/100\n",
      "\u001b[1m37/37\u001b[0m \u001b[32m━━━━━━━━━━━━━━━━━━━━\u001b[0m\u001b[37m\u001b[0m \u001b[1m1s\u001b[0m 22ms/step - attrition_output_accuracy: 0.9622 - attrition_output_loss: 0.1123 - department_output_accuracy: 0.8511 - department_output_loss: 0.3933 - loss: 0.5056 - val_attrition_output_accuracy: 0.7959 - val_attrition_output_loss: 0.6364 - val_department_output_accuracy: 0.5884 - val_department_output_loss: 1.1039 - val_loss: 1.7898\n",
      "Epoch 77/100\n",
      "\u001b[1m37/37\u001b[0m \u001b[32m━━━━━━━━━━━━━━━━━━━━\u001b[0m\u001b[37m\u001b[0m \u001b[1m1s\u001b[0m 15ms/step - attrition_output_accuracy: 0.9607 - attrition_output_loss: 0.1332 - department_output_accuracy: 0.8474 - department_output_loss: 0.4071 - loss: 0.5403 - val_attrition_output_accuracy: 0.8265 - val_attrition_output_loss: 0.6259 - val_department_output_accuracy: 0.5850 - val_department_output_loss: 1.1322 - val_loss: 1.8065\n",
      "Epoch 78/100\n",
      "\u001b[1m37/37\u001b[0m \u001b[32m━━━━━━━━━━━━━━━━━━━━\u001b[0m\u001b[37m\u001b[0m \u001b[1m1s\u001b[0m 14ms/step - attrition_output_accuracy: 0.9562 - attrition_output_loss: 0.1108 - department_output_accuracy: 0.8594 - department_output_loss: 0.3854 - loss: 0.4962 - val_attrition_output_accuracy: 0.8299 - val_attrition_output_loss: 0.6151 - val_department_output_accuracy: 0.6054 - val_department_output_loss: 1.1375 - val_loss: 1.8069\n",
      "Epoch 79/100\n",
      "\u001b[1m37/37\u001b[0m \u001b[32m━━━━━━━━━━━━━━━━━━━━\u001b[0m\u001b[37m\u001b[0m \u001b[1m1s\u001b[0m 21ms/step - attrition_output_accuracy: 0.9588 - attrition_output_loss: 0.1175 - department_output_accuracy: 0.8529 - department_output_loss: 0.3869 - loss: 0.5044 - val_attrition_output_accuracy: 0.8435 - val_attrition_output_loss: 0.6415 - val_department_output_accuracy: 0.5918 - val_department_output_loss: 1.1705 - val_loss: 1.8562\n",
      "Epoch 80/100\n",
      "\u001b[1m37/37\u001b[0m \u001b[32m━━━━━━━━━━━━━━━━━━━━\u001b[0m\u001b[37m\u001b[0m \u001b[1m1s\u001b[0m 17ms/step - attrition_output_accuracy: 0.9659 - attrition_output_loss: 0.1031 - department_output_accuracy: 0.8356 - department_output_loss: 0.4117 - loss: 0.5148 - val_attrition_output_accuracy: 0.8299 - val_attrition_output_loss: 0.6375 - val_department_output_accuracy: 0.6088 - val_department_output_loss: 1.2063 - val_loss: 1.9008\n",
      "Epoch 81/100\n",
      "\u001b[1m37/37\u001b[0m \u001b[32m━━━━━━━━━━━━━━━━━━━━\u001b[0m\u001b[37m\u001b[0m \u001b[1m1s\u001b[0m 19ms/step - attrition_output_accuracy: 0.9651 - attrition_output_loss: 0.1086 - department_output_accuracy: 0.8540 - department_output_loss: 0.3857 - loss: 0.4944 - val_attrition_output_accuracy: 0.7959 - val_attrition_output_loss: 0.6806 - val_department_output_accuracy: 0.5748 - val_department_output_loss: 1.1516 - val_loss: 1.8960\n",
      "Epoch 82/100\n",
      "\u001b[1m37/37\u001b[0m \u001b[32m━━━━━━━━━━━━━━━━━━━━\u001b[0m\u001b[37m\u001b[0m \u001b[1m1s\u001b[0m 18ms/step - attrition_output_accuracy: 0.9585 - attrition_output_loss: 0.1136 - department_output_accuracy: 0.8513 - department_output_loss: 0.3886 - loss: 0.5023 - val_attrition_output_accuracy: 0.8265 - val_attrition_output_loss: 0.6602 - val_department_output_accuracy: 0.5782 - val_department_output_loss: 1.1661 - val_loss: 1.8932\n",
      "Epoch 83/100\n",
      "\u001b[1m37/37\u001b[0m \u001b[32m━━━━━━━━━━━━━━━━━━━━\u001b[0m\u001b[37m\u001b[0m \u001b[1m1s\u001b[0m 13ms/step - attrition_output_accuracy: 0.9628 - attrition_output_loss: 0.1002 - department_output_accuracy: 0.8552 - department_output_loss: 0.3893 - loss: 0.4895 - val_attrition_output_accuracy: 0.8231 - val_attrition_output_loss: 0.6633 - val_department_output_accuracy: 0.5952 - val_department_output_loss: 1.2054 - val_loss: 1.9292\n",
      "Epoch 84/100\n",
      "\u001b[1m37/37\u001b[0m \u001b[32m━━━━━━━━━━━━━━━━━━━━\u001b[0m\u001b[37m\u001b[0m \u001b[1m1s\u001b[0m 13ms/step - attrition_output_accuracy: 0.9747 - attrition_output_loss: 0.0971 - department_output_accuracy: 0.8695 - department_output_loss: 0.3782 - loss: 0.4754 - val_attrition_output_accuracy: 0.8265 - val_attrition_output_loss: 0.6718 - val_department_output_accuracy: 0.5952 - val_department_output_loss: 1.2019 - val_loss: 1.9389\n",
      "Epoch 85/100\n",
      "\u001b[1m37/37\u001b[0m \u001b[32m━━━━━━━━━━━━━━━━━━━━\u001b[0m\u001b[37m\u001b[0m \u001b[1m1s\u001b[0m 17ms/step - attrition_output_accuracy: 0.9589 - attrition_output_loss: 0.1252 - department_output_accuracy: 0.8630 - department_output_loss: 0.3814 - loss: 0.5066 - val_attrition_output_accuracy: 0.8333 - val_attrition_output_loss: 0.6817 - val_department_output_accuracy: 0.5680 - val_department_output_loss: 1.2232 - val_loss: 1.9516\n",
      "Epoch 86/100\n",
      "\u001b[1m37/37\u001b[0m \u001b[32m━━━━━━━━━━━━━━━━━━━━\u001b[0m\u001b[37m\u001b[0m \u001b[1m1s\u001b[0m 16ms/step - attrition_output_accuracy: 0.9714 - attrition_output_loss: 0.0982 - department_output_accuracy: 0.8464 - department_output_loss: 0.4010 - loss: 0.4992 - val_attrition_output_accuracy: 0.8265 - val_attrition_output_loss: 0.6720 - val_department_output_accuracy: 0.5680 - val_department_output_loss: 1.2606 - val_loss: 1.9917\n",
      "Epoch 87/100\n",
      "\u001b[1m37/37\u001b[0m \u001b[32m━━━━━━━━━━━━━━━━━━━━\u001b[0m\u001b[37m\u001b[0m \u001b[1m1s\u001b[0m 13ms/step - attrition_output_accuracy: 0.9688 - attrition_output_loss: 0.0977 - department_output_accuracy: 0.8582 - department_output_loss: 0.3754 - loss: 0.4731 - val_attrition_output_accuracy: 0.8231 - val_attrition_output_loss: 0.6872 - val_department_output_accuracy: 0.5748 - val_department_output_loss: 1.2512 - val_loss: 2.0088\n",
      "Epoch 88/100\n",
      "\u001b[1m37/37\u001b[0m \u001b[32m━━━━━━━━━━━━━━━━━━━━\u001b[0m\u001b[37m\u001b[0m \u001b[1m1s\u001b[0m 11ms/step - attrition_output_accuracy: 0.9782 - attrition_output_loss: 0.0938 - department_output_accuracy: 0.8671 - department_output_loss: 0.3657 - loss: 0.4594 - val_attrition_output_accuracy: 0.8435 - val_attrition_output_loss: 0.7076 - val_department_output_accuracy: 0.5782 - val_department_output_loss: 1.2475 - val_loss: 2.0285\n",
      "Epoch 89/100\n",
      "\u001b[1m37/37\u001b[0m \u001b[32m━━━━━━━━━━━━━━━━━━━━\u001b[0m\u001b[37m\u001b[0m \u001b[1m1s\u001b[0m 17ms/step - attrition_output_accuracy: 0.9675 - attrition_output_loss: 0.1118 - department_output_accuracy: 0.8618 - department_output_loss: 0.3855 - loss: 0.4973 - val_attrition_output_accuracy: 0.8299 - val_attrition_output_loss: 0.7132 - val_department_output_accuracy: 0.5986 - val_department_output_loss: 1.2620 - val_loss: 2.0220\n",
      "Epoch 90/100\n",
      "\u001b[1m37/37\u001b[0m \u001b[32m━━━━━━━━━━━━━━━━━━━━\u001b[0m\u001b[37m\u001b[0m \u001b[1m1s\u001b[0m 12ms/step - attrition_output_accuracy: 0.9689 - attrition_output_loss: 0.0980 - department_output_accuracy: 0.8728 - department_output_loss: 0.3300 - loss: 0.4279 - val_attrition_output_accuracy: 0.8299 - val_attrition_output_loss: 0.6885 - val_department_output_accuracy: 0.5918 - val_department_output_loss: 1.2729 - val_loss: 2.0282\n",
      "Epoch 91/100\n",
      "\u001b[1m37/37\u001b[0m \u001b[32m━━━━━━━━━━━━━━━━━━━━\u001b[0m\u001b[37m\u001b[0m \u001b[1m1s\u001b[0m 10ms/step - attrition_output_accuracy: 0.9728 - attrition_output_loss: 0.0964 - department_output_accuracy: 0.8627 - department_output_loss: 0.3632 - loss: 0.4595 - val_attrition_output_accuracy: 0.8265 - val_attrition_output_loss: 0.7150 - val_department_output_accuracy: 0.5714 - val_department_output_loss: 1.2888 - val_loss: 2.0532\n",
      "Epoch 92/100\n",
      "\u001b[1m37/37\u001b[0m \u001b[32m━━━━━━━━━━━━━━━━━━━━\u001b[0m\u001b[37m\u001b[0m \u001b[1m1s\u001b[0m 14ms/step - attrition_output_accuracy: 0.9771 - attrition_output_loss: 0.0857 - department_output_accuracy: 0.8728 - department_output_loss: 0.3450 - loss: 0.4306 - val_attrition_output_accuracy: 0.8265 - val_attrition_output_loss: 0.7375 - val_department_output_accuracy: 0.5612 - val_department_output_loss: 1.3295 - val_loss: 2.1167\n",
      "Epoch 93/100\n",
      "\u001b[1m37/37\u001b[0m \u001b[32m━━━━━━━━━━━━━━━━━━━━\u001b[0m\u001b[37m\u001b[0m \u001b[1m1s\u001b[0m 14ms/step - attrition_output_accuracy: 0.9691 - attrition_output_loss: 0.0948 - department_output_accuracy: 0.8659 - department_output_loss: 0.3559 - loss: 0.4507 - val_attrition_output_accuracy: 0.8367 - val_attrition_output_loss: 0.7307 - val_department_output_accuracy: 0.5952 - val_department_output_loss: 1.2843 - val_loss: 2.0912\n",
      "Epoch 94/100\n",
      "\u001b[1m37/37\u001b[0m \u001b[32m━━━━━━━━━━━━━━━━━━━━\u001b[0m\u001b[37m\u001b[0m \u001b[1m1s\u001b[0m 23ms/step - attrition_output_accuracy: 0.9790 - attrition_output_loss: 0.0851 - department_output_accuracy: 0.8648 - department_output_loss: 0.3607 - loss: 0.4458 - val_attrition_output_accuracy: 0.8299 - val_attrition_output_loss: 0.7374 - val_department_output_accuracy: 0.5816 - val_department_output_loss: 1.3231 - val_loss: 2.1154\n",
      "Epoch 95/100\n",
      "\u001b[1m37/37\u001b[0m \u001b[32m━━━━━━━━━━━━━━━━━━━━\u001b[0m\u001b[37m\u001b[0m \u001b[1m1s\u001b[0m 19ms/step - attrition_output_accuracy: 0.9787 - attrition_output_loss: 0.0736 - department_output_accuracy: 0.8891 - department_output_loss: 0.3057 - loss: 0.3793 - val_attrition_output_accuracy: 0.8299 - val_attrition_output_loss: 0.7320 - val_department_output_accuracy: 0.5782 - val_department_output_loss: 1.3286 - val_loss: 2.1344\n",
      "Epoch 96/100\n",
      "\u001b[1m37/37\u001b[0m \u001b[32m━━━━━━━━━━━━━━━━━━━━\u001b[0m\u001b[37m\u001b[0m \u001b[1m1s\u001b[0m 24ms/step - attrition_output_accuracy: 0.9779 - attrition_output_loss: 0.0742 - department_output_accuracy: 0.8705 - department_output_loss: 0.3311 - loss: 0.4054 - val_attrition_output_accuracy: 0.8095 - val_attrition_output_loss: 0.7700 - val_department_output_accuracy: 0.5816 - val_department_output_loss: 1.3422 - val_loss: 2.1727\n",
      "Epoch 97/100\n",
      "\u001b[1m37/37\u001b[0m \u001b[32m━━━━━━━━━━━━━━━━━━━━\u001b[0m\u001b[37m\u001b[0m \u001b[1m1s\u001b[0m 20ms/step - attrition_output_accuracy: 0.9732 - attrition_output_loss: 0.0827 - department_output_accuracy: 0.8576 - department_output_loss: 0.3488 - loss: 0.4315 - val_attrition_output_accuracy: 0.8231 - val_attrition_output_loss: 0.7803 - val_department_output_accuracy: 0.5782 - val_department_output_loss: 1.3544 - val_loss: 2.1988\n",
      "Epoch 98/100\n",
      "\u001b[1m37/37\u001b[0m \u001b[32m━━━━━━━━━━━━━━━━━━━━\u001b[0m\u001b[37m\u001b[0m \u001b[1m1s\u001b[0m 17ms/step - attrition_output_accuracy: 0.9680 - attrition_output_loss: 0.0846 - department_output_accuracy: 0.8702 - department_output_loss: 0.3434 - loss: 0.4280 - val_attrition_output_accuracy: 0.8265 - val_attrition_output_loss: 0.7863 - val_department_output_accuracy: 0.5986 - val_department_output_loss: 1.3553 - val_loss: 2.2189\n",
      "Epoch 99/100\n",
      "\u001b[1m37/37\u001b[0m \u001b[32m━━━━━━━━━━━━━━━━━━━━\u001b[0m\u001b[37m\u001b[0m \u001b[1m1s\u001b[0m 13ms/step - attrition_output_accuracy: 0.9751 - attrition_output_loss: 0.0877 - department_output_accuracy: 0.8533 - department_output_loss: 0.3550 - loss: 0.4426 - val_attrition_output_accuracy: 0.8333 - val_attrition_output_loss: 0.7688 - val_department_output_accuracy: 0.5918 - val_department_output_loss: 1.3544 - val_loss: 2.2005\n",
      "Epoch 100/100\n",
      "\u001b[1m37/37\u001b[0m \u001b[32m━━━━━━━━━━━━━━━━━━━━\u001b[0m\u001b[37m\u001b[0m \u001b[1m1s\u001b[0m 16ms/step - attrition_output_accuracy: 0.9817 - attrition_output_loss: 0.0683 - department_output_accuracy: 0.8617 - department_output_loss: 0.3423 - loss: 0.4106 - val_attrition_output_accuracy: 0.8163 - val_attrition_output_loss: 0.7861 - val_department_output_accuracy: 0.5680 - val_department_output_loss: 1.3941 - val_loss: 2.2472\n"
     ]
    }
   ],
   "source": [
    "history = model.fit(\n",
    "    X_train_scaled,  # Input features for training\n",
    "    [department_train_encoded, attrition_train_encoded],  # Output labels for both tasks\n",
    "    validation_data=(X_test_scaled, [department_test_encoded, attrition_test_encoded]),  # Validation data\n",
    "    epochs=100,  # Number of training epochs\n",
    "    batch_size=32,  # Size of each training batch\n",
    "    verbose=1  # Print training progress\n",
    ")"
   ]
  },
  {
   "cell_type": "code",
   "execution_count": 15,
   "metadata": {
    "colab": {
     "base_uri": "https://localhost:8080/"
    },
    "id": "SxrzXJr0eULe",
    "outputId": "01e942a1-80e0-4ced-dd7c-9fd75fc3f09d"
   },
   "outputs": [
    {
     "name": "stdout",
     "output_type": "stream",
     "text": [
      "\u001b[1m10/10\u001b[0m \u001b[32m━━━━━━━━━━━━━━━━━━━━\u001b[0m\u001b[37m\u001b[0m \u001b[1m0s\u001b[0m 11ms/step - attrition_output_accuracy: 0.8325 - attrition_output_loss: 0.8706 - department_output_accuracy: 0.5637 - department_output_loss: 1.4289 - loss: 2.3117\n",
      "Test Loss: 2.2472267150878906\n",
      "Test Department Loss: 1.3941237926483154\n",
      "Test Attrition Loss: 0.7860662341117859\n",
      "Test Department Accuracy: 0.8163265585899353\n",
      "Test Attrition Accuracy: 0.5680271983146667\n"
     ]
    }
   ],
   "source": [
    "# Evaluate the model on the test data\n",
    "test_loss, test_department_loss, test_attrition_loss, test_department_accuracy, test_attrition_accuracy = model.evaluate(\n",
    "    X_test_scaled,\n",
    "    [department_test_encoded, attrition_test_encoded],\n",
    "    verbose=1\n",
    ")\n",
    "\n",
    "# Print the test results\n",
    "print(f\"Test Loss: {test_loss}\")\n",
    "print(f\"Test Department Loss: {test_department_loss}\")\n",
    "print(f\"Test Attrition Loss: {test_attrition_loss}\")\n",
    "print(f\"Test Department Accuracy: {test_department_accuracy}\")\n",
    "print(f\"Test Attrition Accuracy: {test_attrition_accuracy}\")\n"
   ]
  },
  {
   "cell_type": "code",
   "execution_count": 17,
   "metadata": {
    "colab": {
     "base_uri": "https://localhost:8080/"
    },
    "id": "ZlCtlHi0Vt54",
    "outputId": "c9596dd1-00ec-4ccb-f872-6a7545405ee2"
   },
   "outputs": [
    {
     "name": "stdout",
     "output_type": "stream",
     "text": [
      "Test Department Accuracy: 0.8163265585899353\n",
      "Test Attrition Accuracy: 0.5680271983146667\n"
     ]
    }
   ],
   "source": [
    "# Print the accuracy for both department and attrition\n",
    "print(f\"Test Department Accuracy: {test_department_accuracy}\")\n",
    "print(f\"Test Attrition Accuracy: {test_attrition_accuracy}\")"
   ]
  },
  {
   "cell_type": "markdown",
   "metadata": {
    "id": "eGSyfsZfWOQM"
   },
   "source": [
    "# Summary\n",
    "\n",
    "In the provided space below, briefly answer the following questions.\n",
    "\n",
    "1. Is accuracy the best metric to use on this data? Why or why not?\n",
    "\n",
    "2. What activation functions did you choose for your output layers, and why?\n",
    "\n",
    "3. Can you name a few ways that this model might be improved?"
   ]
  },
  {
   "cell_type": "markdown",
   "metadata": {
    "id": "pi9SLpFnWvbF"
   },
   "source": [
    "YOUR ANSWERS HERE\n",
    "\n",
    "1. Accuracy might not always be the best metric, especially if the data is imbalanced. For example, in the Attrition column, if most employees don't leave the company, then the model can achieve high accuracy just by predicting the majority class (that employees stay). But this doesn’t mean the model is actually good at identifying employees who are likely to leave. Instead, metrics like Precision, Recall, F1-score, or AUC-ROC might be better because they focus on how well the model performs on the minority class.\n",
    "   \n",
    "2. For the Department output layer, I used the softmax activation function. This is because it's a multi-class classification problem, and softmax outputs probabilities for each class (department). The probabilities sum up to 1, making it easy to identify the most likely department.\n",
    "For the Attrition output layer, I used the sigmoid activation function. Since this is a binary classification problem (employee leaves or stays), sigmoid works well because it outputs a probability between 0 and 1. This makes it easy to interpret the likelihood of an employee leaving.\n",
    "\n",
    "3. \n",
    "*    Hyperparameter tuning: Changing the learning rate, batch size, or the number of epochs can help improve model performance. Trying different optimizers like Adam or RMSprop could also make a difference.\n",
    "\n",
    "*   Adding more layers or neurons: Increasing the number of hidden layers or neurons in the layers might allow the model to capture more complex patterns in the data.\n",
    "* Regularization techniques: Adding dropout layers or using L2 regularization can prevent overfitting, which is especially helpful if the dataset is small.\n",
    "\n"
   ]
  }
 ],
 "metadata": {
  "colab": {
   "provenance": []
  },
  "kernelspec": {
   "display_name": "Python 3 (ipykernel)",
   "language": "python",
   "name": "python3"
  },
  "language_info": {
   "codemirror_mode": {
    "name": "ipython",
    "version": 3
   },
   "file_extension": ".py",
   "mimetype": "text/x-python",
   "name": "python",
   "nbconvert_exporter": "python",
   "pygments_lexer": "ipython3",
   "version": "3.12.4"
  },
  "vscode": {
   "interpreter": {
    "hash": "31f2aee4e71d21fbe5cf8b01ff0e069b9275f58929596ceb00d14d90e3e16cd6"
   }
  }
 },
 "nbformat": 4,
 "nbformat_minor": 4
}
